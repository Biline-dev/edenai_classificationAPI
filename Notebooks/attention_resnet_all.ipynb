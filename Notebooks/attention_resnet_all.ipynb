{
  "cells": [
    {
      "cell_type": "markdown",
      "source": [
        "# **Download Libraries**"
      ],
      "metadata": {
        "id": "54tn7vkm-vNZ"
      }
    },
    {
      "cell_type": "code",
      "execution_count": null,
      "metadata": {
        "colab": {
          "base_uri": "https://localhost:8080/"
        },
        "id": "ahm3w4KDe4-Y",
        "outputId": "3cca0538-51e5-41a6-b922-1210029d056d"
      },
      "outputs": [
        {
          "output_type": "stream",
          "name": "stdout",
          "text": [
            "Looking in indexes: https://pypi.org/simple, https://us-python.pkg.dev/colab-wheels/public/simple/\n",
            "Collecting tensorboardX\n",
            "  Downloading tensorboardX-2.6-py2.py3-none-any.whl (114 kB)\n",
            "\u001b[?25l     \u001b[90m━━━━━━━━━━━━━━━━━━━━━━━━━━━━━━━━━━━━━━━━\u001b[0m \u001b[32m0.0/114.5 kB\u001b[0m \u001b[31m?\u001b[0m eta \u001b[36m-:--:--\u001b[0m\r\u001b[2K     \u001b[90m━━━━━━━━━━━━━━━━━━━━━━━━━━━━━━━━━━━━━━━\u001b[0m \u001b[32m114.5/114.5 kB\u001b[0m \u001b[31m4.1 MB/s\u001b[0m eta \u001b[36m0:00:00\u001b[0m\n",
            "\u001b[?25hRequirement already satisfied: numpy in /usr/local/lib/python3.10/dist-packages (from tensorboardX) (1.22.4)\n",
            "Requirement already satisfied: packaging in /usr/local/lib/python3.10/dist-packages (from tensorboardX) (23.1)\n",
            "Requirement already satisfied: protobuf<4,>=3.8.0 in /usr/local/lib/python3.10/dist-packages (from tensorboardX) (3.20.3)\n",
            "Installing collected packages: tensorboardX\n",
            "Successfully installed tensorboardX-2.6\n",
            "\u001b[2K     \u001b[90m━━━━━━━━━━━━━━━━━━━━━━━━━━━━━━━━━━━━━━━━\u001b[0m \u001b[32m81.4/81.4 kB\u001b[0m \u001b[31m3.1 MB/s\u001b[0m eta \u001b[36m0:00:00\u001b[0m\n",
            "\u001b[2K     \u001b[90m━━━━━━━━━━━━━━━━━━━━━━━━━━━━━━━━━━━━━━━━\u001b[0m \u001b[32m43.6/43.6 kB\u001b[0m \u001b[31m6.3 MB/s\u001b[0m eta \u001b[36m0:00:00\u001b[0m\n",
            "\u001b[?25h  Preparing metadata (setup.py) ... \u001b[?25l\u001b[?25hdone\n",
            "\u001b[2K     \u001b[90m━━━━━━━━━━━━━━━━━━━━━━━━━━━━━━━━━━━━━━\u001b[0m \u001b[32m474.6/474.6 kB\u001b[0m \u001b[31m20.9 MB/s\u001b[0m eta \u001b[36m0:00:00\u001b[0m\n",
            "\u001b[2K     \u001b[90m━━━━━━━━━━━━━━━━━━━━━━━━━━━━━━━━━━━━━━━\u001b[0m \u001b[32m110.5/110.5 kB\u001b[0m \u001b[31m9.8 MB/s\u001b[0m eta \u001b[36m0:00:00\u001b[0m\n",
            "\u001b[2K     \u001b[90m━━━━━━━━━━━━━━━━━━━━━━━━━━━━━━━━━━━━━━\u001b[0m \u001b[32m212.5/212.5 kB\u001b[0m \u001b[31m13.6 MB/s\u001b[0m eta \u001b[36m0:00:00\u001b[0m\n",
            "\u001b[2K     \u001b[90m━━━━━━━━━━━━━━━━━━━━━━━━━━━━━━━━━━━━━━\u001b[0m \u001b[32m134.3/134.3 kB\u001b[0m \u001b[31m17.5 MB/s\u001b[0m eta \u001b[36m0:00:00\u001b[0m\n",
            "\u001b[2K     \u001b[90m━━━━━━━━━━━━━━━━━━━━━━━━━━━━━━━━━━━━━━\u001b[0m \u001b[32m236.8/236.8 kB\u001b[0m \u001b[31m25.3 MB/s\u001b[0m eta \u001b[36m0:00:00\u001b[0m\n",
            "\u001b[2K     \u001b[90m━━━━━━━━━━━━━━━━━━━━━━━━━━━━━━━━━━━━━━━━\u001b[0m \u001b[32m1.0/1.0 MB\u001b[0m \u001b[31m31.6 MB/s\u001b[0m eta \u001b[36m0:00:00\u001b[0m\n",
            "\u001b[2K     \u001b[90m━━━━━━━━━━━━━━━━━━━━━━━━━━━━━━━━━━━━━━━\u001b[0m \u001b[32m114.5/114.5 kB\u001b[0m \u001b[31m5.8 MB/s\u001b[0m eta \u001b[36m0:00:00\u001b[0m\n",
            "\u001b[2K     \u001b[90m━━━━━━━━━━━━━━━━━━━━━━━━━━━━━━━━━━━━━━\u001b[0m \u001b[32m268.8/268.8 kB\u001b[0m \u001b[31m15.8 MB/s\u001b[0m eta \u001b[36m0:00:00\u001b[0m\n",
            "\u001b[2K     \u001b[90m━━━━━━━━━━━━━━━━━━━━━━━━━━━━━━━━━━━━━━\u001b[0m \u001b[32m149.6/149.6 kB\u001b[0m \u001b[31m16.5 MB/s\u001b[0m eta \u001b[36m0:00:00\u001b[0m\n",
            "\u001b[?25h  Building wheel for seqeval (setup.py) ... \u001b[?25l\u001b[?25hdone\n"
          ]
        }
      ],
      "source": [
        "!pip install tensorboardX\n",
        "!pip install -q evaluate seqeval"
      ]
    },
    {
      "cell_type": "markdown",
      "source": [
        "# **Import libraries**"
      ],
      "metadata": {
        "id": "6hqyxxSk-ybx"
      }
    },
    {
      "cell_type": "code",
      "execution_count": null,
      "metadata": {
        "id": "PLMrOzyWeu66"
      },
      "outputs": [],
      "source": [
        "import torch\n",
        "import torch.nn as nn\n",
        "import torch.nn.functional as F\n",
        "import torchvision.utils as utils\n",
        "import torchvision\n",
        "import torch.optim as optim\n",
        "from torchvision import transforms\n",
        "from torchvision.datasets import ImageFolder\n",
        "from torch.utils.data.dataloader import DataLoader\n",
        "from torch.utils.data import random_split\n",
        "from sklearn.metrics import accuracy_score\n",
        "from sklearn import metrics\n",
        "from datetime import datetime\n",
        "from tensorboardX import SummaryWriter\n",
        "import matplotlib.pyplot as plt\n",
        "import cv2\n",
        "import math\n",
        "import os\n",
        "import numpy as np\n",
        "from tqdm.auto import tqdm\n",
        "import evaluate\n",
        "import pandas as pd"
      ]
    },
    {
      "cell_type": "code",
      "execution_count": null,
      "metadata": {
        "id": "4bk1YnwBe9AP",
        "colab": {
          "base_uri": "https://localhost:8080/"
        },
        "outputId": "5efda452-edc5-4c43-e3e0-04914389e3de"
      },
      "outputs": [
        {
          "output_type": "stream",
          "name": "stdout",
          "text": [
            "Mounted at /gdrive\n"
          ]
        }
      ],
      "source": [
        "from google.colab import drive\n",
        "drive.mount('/gdrive', force_remount=True)"
      ]
    },
    {
      "cell_type": "markdown",
      "source": [
        "# **Build Attention ResNet**"
      ],
      "metadata": {
        "id": "FwhxG1Xt_B3t"
      }
    },
    {
      "cell_type": "markdown",
      "source": [
        "## **Attention layers**"
      ],
      "metadata": {
        "id": "3k-WUD7f-1qw"
      }
    },
    {
      "cell_type": "code",
      "execution_count": null,
      "metadata": {
        "id": "YN3QRHGDeu7B"
      },
      "outputs": [],
      "source": [
        "class ProjectorBlock(nn.Module):\n",
        "    def __init__(self, in_features, out_features):\n",
        "        super(ProjectorBlock, self).__init__()\n",
        "        self.op = nn.Conv2d(in_channels=in_features, out_channels=out_features,\n",
        "            kernel_size=1, padding=0, bias=False)\n",
        "\n",
        "    def forward(self, x):\n",
        "        return self.op(x)\n",
        "\n",
        "class SpatialAttn(nn.Module):\n",
        "    def __init__(self, in_features, normalize_attn=True):\n",
        "        super(SpatialAttn, self).__init__()\n",
        "        self.normalize_attn = normalize_attn\n",
        "        self.op = nn.Conv2d(in_channels=in_features, out_channels=1,\n",
        "            kernel_size=1, padding=0, bias=False)\n",
        "\n",
        "    def forward(self, l, g):\n",
        "        N, C, H, W = l.size()\n",
        "        c = self.op(l+g) # (batch_size,1,H,W)\n",
        "        if self.normalize_attn:\n",
        "            a = F.softmax(c.view(N,1,-1), dim=2).view(N,1,H,W)\n",
        "        else:\n",
        "            a = torch.sigmoid(c)\n",
        "        g = torch.mul(a.expand_as(l), l)\n",
        "        if self.normalize_attn:\n",
        "            g = g.view(N,C,-1).sum(dim=2) # (batch_size,C)\n",
        "        else:\n",
        "            g = F.adaptive_avg_pool2d(g, (1,1)).view(N,C)\n",
        "        return c.view(N,1,H,W), g"
      ]
    },
    {
      "cell_type": "markdown",
      "source": [
        "## **Residual block**"
      ],
      "metadata": {
        "id": "0nDSpkLT_EFv"
      }
    },
    {
      "cell_type": "code",
      "source": [
        "class ResidualBlock(nn.Module):\n",
        "    def __init__(self, in_channels, out_channels, stride = 1, downsample = None):\n",
        "        super(ResidualBlock, self).__init__()\n",
        "        self.conv1 = nn.Sequential(\n",
        "                        nn.Conv2d(in_channels, out_channels, kernel_size = 3, stride = stride, padding = 1),\n",
        "                        nn.BatchNorm2d(out_channels),\n",
        "                        nn.ReLU())\n",
        "        self.conv2 = nn.Sequential(\n",
        "                        nn.Conv2d(out_channels, out_channels, kernel_size = 3, stride = 1, padding = 1),\n",
        "                        nn.BatchNorm2d(out_channels))\n",
        "        self.downsample = downsample\n",
        "        self.relu = nn.ReLU()\n",
        "        self.out_channels = out_channels\n",
        "\n",
        "    def forward(self, x):\n",
        "        residual = x\n",
        "        out = self.conv1(x)\n",
        "        out = self.conv2(out)\n",
        "        if self.downsample:\n",
        "            residual = self.downsample(x)\n",
        "        out += residual\n",
        "        out = self.relu(out)\n",
        "        return out"
      ],
      "metadata": {
        "id": "FkOguI05ser8"
      },
      "execution_count": null,
      "outputs": []
    },
    {
      "cell_type": "markdown",
      "source": [
        "## **Build the network**"
      ],
      "metadata": {
        "id": "6NcrFxHz_G_P"
      }
    },
    {
      "cell_type": "code",
      "execution_count": null,
      "metadata": {
        "id": "r6HtlTNZeu7D"
      },
      "outputs": [],
      "source": [
        "class AttnResNet(nn.Module):\n",
        "    def __init__(self, sample_size, block, layers, num_classes, attention=True, normalize_attn=True):\n",
        "        super(AttnResNet, self).__init__()\n",
        "        # conv blocks\n",
        "        self.inplanes = 64\n",
        "        self.conv1 = nn.Sequential(\n",
        "                        nn.Conv2d(3, 64, kernel_size = 7, stride = 2, padding = 3),\n",
        "                        nn.BatchNorm2d(64),\n",
        "                        nn.ReLU())\n",
        "        self.maxpool = nn.MaxPool2d(kernel_size = 3, stride = 2, padding = 1)\n",
        "        self.layer0 = self._make_layer(block, 64, layers[0], stride = 1)\n",
        "        self.layer1 = self._make_layer(block, 128, layers[1], stride = 2)\n",
        "        self.layer2 = self._make_layer(block, 512, layers[2], stride = 2)\n",
        "        self.layer3 = self._make_layer(block, 512, layers[3], stride = 2)\n",
        "        self.avgpool = nn.AvgPool2d(5, stride=2)\n",
        "        self.dense = nn.Conv2d(in_channels=512, out_channels=512, kernel_size= 1, padding=0, bias=True)\n",
        "        # attention blocks\n",
        "        self.attention = attention\n",
        "        if self.attention:\n",
        "            self.projector = ProjectorBlock(128, 512)\n",
        "            self.attn1 = SpatialAttn(in_features=512, normalize_attn=normalize_attn)\n",
        "            self.attn2 = SpatialAttn(in_features=512, normalize_attn=normalize_attn)\n",
        "            self.attn3 = SpatialAttn(in_features=512, normalize_attn=normalize_attn)\n",
        "        # final classification layer\n",
        "        if self.attention:\n",
        "            self.classify = nn.Linear(in_features=512*3, out_features=num_classes, bias=True)\n",
        "        else:\n",
        "            self.classify = nn.Linear(in_features=512, out_features=num_classes, bias=True)\n",
        "\n",
        "    def _make_layer(self, block, planes, blocks, stride=1):\n",
        "        downsample = None\n",
        "        if stride != 1 or self.inplanes != planes:\n",
        "            downsample = nn.Sequential(\n",
        "                nn.Conv2d(self.inplanes, planes, kernel_size=1, stride=stride),\n",
        "                nn.BatchNorm2d(planes),\n",
        "            )\n",
        "        layers = []\n",
        "        layers.append(block(self.inplanes, planes, stride, downsample))\n",
        "        self.inplanes = planes\n",
        "        for i in range(1, blocks):\n",
        "            layers.append(block(self.inplanes, planes))\n",
        "\n",
        "        return nn.Sequential(*layers)\n",
        "\n",
        "    def forward(self, x):\n",
        "        x = self.conv1(x)\n",
        "        x = self.maxpool(x)\n",
        "\n",
        "        x = self.layer0(x)\n",
        "\n",
        "        l1 = self.layer1(x)\n",
        "\n",
        "        l2 = self.layer2(l1)\n",
        "\n",
        "        l3 = self.layer3(l2)\n",
        "\n",
        "        x = self.avgpool(l3)\n",
        "\n",
        "        #x = x.view(x.size(0), -1)\n",
        "\n",
        "        g = self.dense(x) # batch_sizex512x1x1\n",
        "        # attention\n",
        "        if self.attention:\n",
        "            c1, g1 = self.attn1(self.projector(l1), g)\n",
        "            c2, g2 = self.attn2(l2, g)\n",
        "            c3, g3 = self.attn3(l3, g)\n",
        "            g = torch.cat((g1,g2,g3), dim=1) # batch_sizex3C\n",
        "            # classification layer\n",
        "            x = self.classify(g) # batch_sizexnum_classes\n",
        "        else:\n",
        "            c1, c2, c3 = None, None, None\n",
        "            x = self.classify(torch.squeeze(g))\n",
        "        return [x, c1, c2, c3]"
      ]
    },
    {
      "cell_type": "markdown",
      "source": [
        "## **Train / Val epochs**"
      ],
      "metadata": {
        "id": "ORMV3sDS_ObI"
      }
    },
    {
      "cell_type": "code",
      "execution_count": null,
      "metadata": {
        "id": "rsODuB06eu7G"
      },
      "outputs": [],
      "source": [
        "def train_epoch(model, criterion, optimizer, dataloader, device, epoch, log_interval, writer):\n",
        "    model.train()\n",
        "    losses = []\n",
        "    all_label = []\n",
        "    all_pred = []\n",
        "\n",
        "    for batch_idx, (inputs, labels) in enumerate(dataloader):\n",
        "        # get the inputs and labels\n",
        "        inputs, labels = inputs.to(device), labels.to(device)\n",
        "\n",
        "        optimizer.zero_grad()\n",
        "        # forward\n",
        "        outputs = model(inputs)\n",
        "        if isinstance(outputs, list):\n",
        "            outputs = outputs[0]\n",
        "\n",
        "        # compute the loss\n",
        "        loss = criterion(outputs, labels.squeeze())\n",
        "        losses.append(loss.item())\n",
        "\n",
        "        # compute the accuracy\n",
        "        prediction = torch.max(outputs, 1)[1]\n",
        "        all_label.extend(labels.squeeze())\n",
        "        all_pred.extend(prediction)\n",
        "        score = accuracy_score(labels.squeeze().cpu().data.squeeze().numpy(), prediction.cpu().data.squeeze().numpy())\n",
        "\n",
        "        # backward & optimize\n",
        "        loss.backward()\n",
        "        optimizer.step()\n",
        "\n",
        "        if (batch_idx + 1) % log_interval == 0:\n",
        "            print(\"epoch {:3d} | iteration {:5d} | Loss {:.6f} | Acc {:.2f}%\".format(epoch+1, batch_idx+1, loss.item(), score*100))\n",
        "    # Compute the average loss & accuracy\n",
        "    training_loss = sum(losses)/len(losses)\n",
        "    all_label = torch.stack(all_label, dim=0)\n",
        "    all_pred = torch.stack(all_pred, dim=0)\n",
        "    training_acc = accuracy_score(all_label.squeeze().cpu().data.squeeze().numpy(), all_pred.cpu().data.squeeze().numpy())\n",
        "    # Log\n",
        "    writer.add_scalars('Loss', {'train': training_loss}, epoch+1)\n",
        "    writer.add_scalars('Accuracy', {'train': training_acc}, epoch+1)\n",
        "    print(\"Average Training Loss of Epoch {}: {:.6f} | Acc: {:.2f}%\".format(epoch+1, training_loss, training_acc*100))\n",
        "    return {'train_loss' : training_loss, 'train_acc' : training_acc}\n",
        "\n",
        "\n",
        "def val_epoch(model, criterion, dataloader, device, epoch, writer):\n",
        "    model.eval()\n",
        "    losses = []\n",
        "    all_label = []\n",
        "    all_pred = []\n",
        "\n",
        "    with torch.no_grad():\n",
        "        for batch_idx, (inputs, labels) in enumerate(dataloader):\n",
        "            # get the inputs and labels\n",
        "            inputs, labels = inputs.to(device), labels.to(device)\n",
        "            # forward\n",
        "            outputs = model(inputs)\n",
        "            if isinstance(outputs, list):\n",
        "                outputs = outputs[0]\n",
        "            # compute the loss\n",
        "            loss = criterion(outputs, labels.squeeze())\n",
        "            losses.append(loss.item())\n",
        "            # collect labels & prediction\n",
        "            prediction = torch.max(outputs, 1)[1]\n",
        "            all_label.extend(labels.squeeze())\n",
        "            all_pred.extend(prediction)\n",
        "\n",
        "    # Compute the average loss & accuracy\n",
        "    val_loss = sum(losses)/len(losses)\n",
        "    all_label = torch.stack(all_label, dim=0)\n",
        "    all_pred = torch.stack(all_pred, dim=0)\n",
        "    val_acc = accuracy_score(all_label.squeeze().cpu().data.squeeze().numpy(), all_pred.cpu().data.squeeze().numpy())\n",
        "    # Log\n",
        "    writer.add_scalars('Loss', {'val': val_loss}, epoch+1)\n",
        "    writer.add_scalars('Accuracy', {'val': val_acc}, epoch+1)\n",
        "    print(\"Average Validation Loss: {:.6f} | Acc: {:.2f}%\".format(val_loss, val_acc*100))\n",
        "    return {'val_loss' : val_loss, 'val_acc' : val_acc}"
      ]
    },
    {
      "cell_type": "markdown",
      "source": [
        "# **Import dataset**"
      ],
      "metadata": {
        "id": "9hy8IryI_R38"
      }
    },
    {
      "cell_type": "code",
      "execution_count": null,
      "metadata": {
        "id": "1Ziw5OSBeu7I"
      },
      "outputs": [],
      "source": [
        "#train and test data directory\n",
        "data_dir = \"/gdrive/MyDrive/data/train_attention_resnet_all/train/\"\n",
        "test_data_dir = \"/gdrive/MyDrive/data/train_attention_resnet_all/test/\"\n",
        "\n",
        "#load the train and test data with augmentation\n",
        "dataset = ImageFolder(data_dir,transform = transforms.Compose([\n",
        "    transforms.Resize((150,150)),\n",
        "    transforms.ToTensor(),\n",
        "\n",
        "]))\n",
        "test_dataset = ImageFolder(test_data_dir,transforms.Compose([\n",
        "    transforms.Resize((150,150)),\n",
        "    transforms.ToTensor()\n",
        "]))"
      ]
    },
    {
      "cell_type": "code",
      "execution_count": null,
      "metadata": {
        "id": "u2om5ai8eu7J",
        "colab": {
          "base_uri": "https://localhost:8080/"
        },
        "outputId": "89092373-7309-4f09-e32b-20015b04accb"
      },
      "outputs": [
        {
          "output_type": "stream",
          "name": "stdout",
          "text": [
            "Length of Train Data : 4012\n",
            "Length of Validation Data : 500\n"
          ]
        },
        {
          "output_type": "stream",
          "name": "stderr",
          "text": [
            "/usr/local/lib/python3.10/dist-packages/torch/utils/data/dataloader.py:560: UserWarning: This DataLoader will create 4 worker processes in total. Our suggested max number of worker in current system is 2, which is smaller than what this DataLoader is going to create. Please be aware that excessive worker creation might get DataLoader running slow or even freeze, lower the worker number to avoid potential slowness/freeze if necessary.\n",
            "  warnings.warn(_create_warning_msg(\n"
          ]
        }
      ],
      "source": [
        "batch_size = 5\n",
        "val_size = 500\n",
        "train_size = len(dataset) - val_size\n",
        "\n",
        "train_data,val_data = random_split(dataset,[train_size,val_size])\n",
        "print(f\"Length of Train Data : {len(train_data)}\")\n",
        "print(f\"Length of Validation Data : {len(val_data)}\")\n",
        "#load the train and validation into batches.\n",
        "train_loader = DataLoader(train_data, batch_size, shuffle = True, num_workers = 4, pin_memory = True)\n",
        "val_loader = DataLoader(val_data, batch_size*2, num_workers = 4, pin_memory = True)\n",
        "test_loader = DataLoader(test_dataset, batch_size*2, num_workers = 4, pin_memory = True)"
      ]
    },
    {
      "cell_type": "code",
      "execution_count": null,
      "metadata": {
        "id": "LOKcLWH4eu7M",
        "colab": {
          "base_uri": "https://localhost:8080/"
        },
        "outputId": "777c0a1e-cdf1-4a7d-92bb-005e572a7ad7"
      },
      "outputs": [
        {
          "output_type": "execute_result",
          "data": {
            "text/plain": [
              "device(type='cuda')"
            ]
          },
          "metadata": {},
          "execution_count": 10
        }
      ],
      "source": [
        "# switch to cuda\n",
        "device = torch.device('cuda' if torch.cuda.is_available() else 'cpu')\n",
        "device"
      ]
    },
    {
      "cell_type": "markdown",
      "metadata": {
        "id": "KdjylKHWeu7O"
      },
      "source": [
        "# **Let's train !**"
      ]
    },
    {
      "cell_type": "code",
      "execution_count": null,
      "metadata": {
        "id": "l9INHofueu7R"
      },
      "outputs": [],
      "source": [
        "# Create model\n",
        "model = AttnResNet(sample_size=32, block = ResidualBlock, layers = [3, 4, 6, 3], num_classes=6).to(device)\n",
        "if torch.cuda.device_count() > 1:\n",
        "    print(\"Using {} GPUs\".format(torch.cuda.device_count()))\n",
        "    model = nn.DataParallel(model)"
      ]
    },
    {
      "cell_type": "code",
      "execution_count": null,
      "metadata": {
        "id": "M5zCWBDjeu7S"
      },
      "outputs": [],
      "source": [
        "writer = SummaryWriter(\"runs/resnet_attention_{:%Y-%m-%d_%H-%M-%S}\".format(datetime.now()))"
      ]
    },
    {
      "cell_type": "code",
      "execution_count": null,
      "metadata": {
        "id": "cOA0qA6teu7S"
      },
      "outputs": [],
      "source": [
        "num_epochs = 9\n",
        "lr = 1e-4\n",
        "no_save = True\n",
        "log_interval = 100\n",
        "weight_decay = 1e-4\n",
        "save_path = \"/gdrive/MyDrive/saved_models/resnet_all/\""
      ]
    },
    {
      "cell_type": "code",
      "source": [
        "os.environ[\"CUBLAS_WORKSPACE_CONFIG\"]=\":4096:2\""
      ],
      "metadata": {
        "id": "67fcuMK5aLj6"
      },
      "execution_count": null,
      "outputs": []
    },
    {
      "cell_type": "code",
      "execution_count": null,
      "metadata": {
        "colab": {
          "base_uri": "https://localhost:8080/"
        },
        "id": "R6arGn2Ueu7T",
        "outputId": "341f9084-7c28-464d-cc35-b06af63ea196"
      },
      "outputs": [
        {
          "output_type": "stream",
          "name": "stdout",
          "text": [
            "epoch   1 | iteration   100 | Loss 1.619124 | Acc 40.00%\n",
            "epoch   1 | iteration   200 | Loss 1.314272 | Acc 40.00%\n",
            "epoch   1 | iteration   300 | Loss 1.055056 | Acc 80.00%\n",
            "epoch   1 | iteration   400 | Loss 1.142042 | Acc 40.00%\n",
            "epoch   1 | iteration   500 | Loss 0.566547 | Acc 100.00%\n",
            "epoch   1 | iteration   600 | Loss 1.176497 | Acc 60.00%\n",
            "epoch   1 | iteration   700 | Loss 0.223026 | Acc 100.00%\n",
            "epoch   1 | iteration   800 | Loss 1.064219 | Acc 60.00%\n",
            "Average Training Loss of Epoch 1: 1.098582 | Acc: 60.57%\n"
          ]
        },
        {
          "output_type": "stream",
          "name": "stderr",
          "text": [
            "/usr/local/lib/python3.10/dist-packages/torch/utils/data/dataloader.py:560: UserWarning: This DataLoader will create 4 worker processes in total. Our suggested max number of worker in current system is 2, which is smaller than what this DataLoader is going to create. Please be aware that excessive worker creation might get DataLoader running slow or even freeze, lower the worker number to avoid potential slowness/freeze if necessary.\n",
            "  warnings.warn(_create_warning_msg(\n"
          ]
        },
        {
          "output_type": "stream",
          "name": "stdout",
          "text": [
            "Average Validation Loss: 0.905172 | Acc: 72.00%\n"
          ]
        },
        {
          "output_type": "stream",
          "name": "stderr",
          "text": [
            "/usr/local/lib/python3.10/dist-packages/torch/utils/data/dataloader.py:560: UserWarning: This DataLoader will create 4 worker processes in total. Our suggested max number of worker in current system is 2, which is smaller than what this DataLoader is going to create. Please be aware that excessive worker creation might get DataLoader running slow or even freeze, lower the worker number to avoid potential slowness/freeze if necessary.\n",
            "  warnings.warn(_create_warning_msg(\n"
          ]
        },
        {
          "output_type": "stream",
          "name": "stdout",
          "text": [
            "epoch   2 | iteration   100 | Loss 0.502675 | Acc 80.00%\n",
            "epoch   2 | iteration   200 | Loss 0.173047 | Acc 100.00%\n",
            "epoch   2 | iteration   300 | Loss 0.317046 | Acc 100.00%\n",
            "epoch   2 | iteration   400 | Loss 0.949429 | Acc 80.00%\n",
            "epoch   2 | iteration   500 | Loss 0.253608 | Acc 100.00%\n",
            "epoch   2 | iteration   600 | Loss 0.123931 | Acc 100.00%\n",
            "epoch   2 | iteration   700 | Loss 0.050543 | Acc 100.00%\n",
            "epoch   2 | iteration   800 | Loss 0.189938 | Acc 100.00%\n",
            "Average Training Loss of Epoch 2: 0.489648 | Acc: 84.17%\n"
          ]
        },
        {
          "output_type": "stream",
          "name": "stderr",
          "text": [
            "/usr/local/lib/python3.10/dist-packages/torch/utils/data/dataloader.py:560: UserWarning: This DataLoader will create 4 worker processes in total. Our suggested max number of worker in current system is 2, which is smaller than what this DataLoader is going to create. Please be aware that excessive worker creation might get DataLoader running slow or even freeze, lower the worker number to avoid potential slowness/freeze if necessary.\n",
            "  warnings.warn(_create_warning_msg(\n"
          ]
        },
        {
          "output_type": "stream",
          "name": "stdout",
          "text": [
            "Average Validation Loss: 1.294433 | Acc: 57.40%\n"
          ]
        },
        {
          "output_type": "stream",
          "name": "stderr",
          "text": [
            "/usr/local/lib/python3.10/dist-packages/torch/utils/data/dataloader.py:560: UserWarning: This DataLoader will create 4 worker processes in total. Our suggested max number of worker in current system is 2, which is smaller than what this DataLoader is going to create. Please be aware that excessive worker creation might get DataLoader running slow or even freeze, lower the worker number to avoid potential slowness/freeze if necessary.\n",
            "  warnings.warn(_create_warning_msg(\n"
          ]
        },
        {
          "output_type": "stream",
          "name": "stdout",
          "text": [
            "epoch   3 | iteration   100 | Loss 0.709304 | Acc 80.00%\n",
            "epoch   3 | iteration   200 | Loss 0.060880 | Acc 100.00%\n",
            "epoch   3 | iteration   300 | Loss 0.394095 | Acc 80.00%\n",
            "epoch   3 | iteration   400 | Loss 0.098155 | Acc 100.00%\n",
            "epoch   3 | iteration   500 | Loss 0.110694 | Acc 100.00%\n",
            "epoch   3 | iteration   600 | Loss 0.154211 | Acc 100.00%\n",
            "epoch   3 | iteration   700 | Loss 0.596424 | Acc 80.00%\n",
            "epoch   3 | iteration   800 | Loss 0.049753 | Acc 100.00%\n",
            "Average Training Loss of Epoch 3: 0.347308 | Acc: 88.73%\n"
          ]
        },
        {
          "output_type": "stream",
          "name": "stderr",
          "text": [
            "/usr/local/lib/python3.10/dist-packages/torch/utils/data/dataloader.py:560: UserWarning: This DataLoader will create 4 worker processes in total. Our suggested max number of worker in current system is 2, which is smaller than what this DataLoader is going to create. Please be aware that excessive worker creation might get DataLoader running slow or even freeze, lower the worker number to avoid potential slowness/freeze if necessary.\n",
            "  warnings.warn(_create_warning_msg(\n"
          ]
        },
        {
          "output_type": "stream",
          "name": "stdout",
          "text": [
            "Average Validation Loss: 0.306262 | Acc: 90.80%\n"
          ]
        },
        {
          "output_type": "stream",
          "name": "stderr",
          "text": [
            "/usr/local/lib/python3.10/dist-packages/torch/utils/data/dataloader.py:560: UserWarning: This DataLoader will create 4 worker processes in total. Our suggested max number of worker in current system is 2, which is smaller than what this DataLoader is going to create. Please be aware that excessive worker creation might get DataLoader running slow or even freeze, lower the worker number to avoid potential slowness/freeze if necessary.\n",
            "  warnings.warn(_create_warning_msg(\n"
          ]
        },
        {
          "output_type": "stream",
          "name": "stdout",
          "text": [
            "epoch   4 | iteration   100 | Loss 0.048298 | Acc 100.00%\n",
            "epoch   4 | iteration   200 | Loss 0.446146 | Acc 100.00%\n",
            "epoch   4 | iteration   300 | Loss 0.676843 | Acc 80.00%\n",
            "epoch   4 | iteration   400 | Loss 0.006330 | Acc 100.00%\n",
            "epoch   4 | iteration   500 | Loss 0.479496 | Acc 80.00%\n",
            "epoch   4 | iteration   600 | Loss 0.166216 | Acc 100.00%\n",
            "epoch   4 | iteration   700 | Loss 0.056348 | Acc 100.00%\n",
            "epoch   4 | iteration   800 | Loss 0.038147 | Acc 100.00%\n",
            "Average Training Loss of Epoch 4: 0.259111 | Acc: 91.15%\n"
          ]
        },
        {
          "output_type": "stream",
          "name": "stderr",
          "text": [
            "/usr/local/lib/python3.10/dist-packages/torch/utils/data/dataloader.py:560: UserWarning: This DataLoader will create 4 worker processes in total. Our suggested max number of worker in current system is 2, which is smaller than what this DataLoader is going to create. Please be aware that excessive worker creation might get DataLoader running slow or even freeze, lower the worker number to avoid potential slowness/freeze if necessary.\n",
            "  warnings.warn(_create_warning_msg(\n"
          ]
        },
        {
          "output_type": "stream",
          "name": "stdout",
          "text": [
            "Average Validation Loss: 0.320059 | Acc: 88.40%\n"
          ]
        },
        {
          "output_type": "stream",
          "name": "stderr",
          "text": [
            "/usr/local/lib/python3.10/dist-packages/torch/utils/data/dataloader.py:560: UserWarning: This DataLoader will create 4 worker processes in total. Our suggested max number of worker in current system is 2, which is smaller than what this DataLoader is going to create. Please be aware that excessive worker creation might get DataLoader running slow or even freeze, lower the worker number to avoid potential slowness/freeze if necessary.\n",
            "  warnings.warn(_create_warning_msg(\n"
          ]
        },
        {
          "output_type": "stream",
          "name": "stdout",
          "text": [
            "epoch   5 | iteration   100 | Loss 0.012086 | Acc 100.00%\n",
            "epoch   5 | iteration   200 | Loss 0.025774 | Acc 100.00%\n",
            "epoch   5 | iteration   300 | Loss 1.065466 | Acc 80.00%\n",
            "epoch   5 | iteration   400 | Loss 0.322949 | Acc 80.00%\n",
            "epoch   5 | iteration   500 | Loss 0.061299 | Acc 100.00%\n",
            "epoch   5 | iteration   600 | Loss 0.757013 | Acc 60.00%\n",
            "epoch   5 | iteration   700 | Loss 0.107921 | Acc 100.00%\n",
            "epoch   5 | iteration   800 | Loss 0.149925 | Acc 100.00%\n",
            "Average Training Loss of Epoch 5: 0.210800 | Acc: 93.10%\n"
          ]
        },
        {
          "output_type": "stream",
          "name": "stderr",
          "text": [
            "/usr/local/lib/python3.10/dist-packages/torch/utils/data/dataloader.py:560: UserWarning: This DataLoader will create 4 worker processes in total. Our suggested max number of worker in current system is 2, which is smaller than what this DataLoader is going to create. Please be aware that excessive worker creation might get DataLoader running slow or even freeze, lower the worker number to avoid potential slowness/freeze if necessary.\n",
            "  warnings.warn(_create_warning_msg(\n"
          ]
        },
        {
          "output_type": "stream",
          "name": "stdout",
          "text": [
            "Average Validation Loss: 0.342409 | Acc: 91.00%\n"
          ]
        },
        {
          "output_type": "stream",
          "name": "stderr",
          "text": [
            "/usr/local/lib/python3.10/dist-packages/torch/utils/data/dataloader.py:560: UserWarning: This DataLoader will create 4 worker processes in total. Our suggested max number of worker in current system is 2, which is smaller than what this DataLoader is going to create. Please be aware that excessive worker creation might get DataLoader running slow or even freeze, lower the worker number to avoid potential slowness/freeze if necessary.\n",
            "  warnings.warn(_create_warning_msg(\n"
          ]
        },
        {
          "output_type": "stream",
          "name": "stdout",
          "text": [
            "epoch   6 | iteration   100 | Loss 0.155423 | Acc 80.00%\n",
            "epoch   6 | iteration   200 | Loss 0.221665 | Acc 80.00%\n",
            "epoch   6 | iteration   300 | Loss 0.770809 | Acc 80.00%\n",
            "epoch   6 | iteration   400 | Loss 0.005796 | Acc 100.00%\n",
            "epoch   6 | iteration   500 | Loss 0.157419 | Acc 100.00%\n",
            "epoch   6 | iteration   600 | Loss 0.963355 | Acc 80.00%\n",
            "epoch   6 | iteration   700 | Loss 0.127673 | Acc 100.00%\n",
            "epoch   6 | iteration   800 | Loss 0.145710 | Acc 100.00%\n",
            "Average Training Loss of Epoch 6: 0.190789 | Acc: 93.74%\n"
          ]
        },
        {
          "output_type": "stream",
          "name": "stderr",
          "text": [
            "/usr/local/lib/python3.10/dist-packages/torch/utils/data/dataloader.py:560: UserWarning: This DataLoader will create 4 worker processes in total. Our suggested max number of worker in current system is 2, which is smaller than what this DataLoader is going to create. Please be aware that excessive worker creation might get DataLoader running slow or even freeze, lower the worker number to avoid potential slowness/freeze if necessary.\n",
            "  warnings.warn(_create_warning_msg(\n"
          ]
        },
        {
          "output_type": "stream",
          "name": "stdout",
          "text": [
            "Average Validation Loss: 2.474622 | Acc: 45.80%\n"
          ]
        },
        {
          "output_type": "stream",
          "name": "stderr",
          "text": [
            "/usr/local/lib/python3.10/dist-packages/torch/utils/data/dataloader.py:560: UserWarning: This DataLoader will create 4 worker processes in total. Our suggested max number of worker in current system is 2, which is smaller than what this DataLoader is going to create. Please be aware that excessive worker creation might get DataLoader running slow or even freeze, lower the worker number to avoid potential slowness/freeze if necessary.\n",
            "  warnings.warn(_create_warning_msg(\n"
          ]
        },
        {
          "output_type": "stream",
          "name": "stdout",
          "text": [
            "epoch   7 | iteration   100 | Loss 0.030508 | Acc 100.00%\n",
            "epoch   7 | iteration   200 | Loss 0.081862 | Acc 100.00%\n",
            "epoch   7 | iteration   300 | Loss 0.138839 | Acc 100.00%\n",
            "epoch   7 | iteration   400 | Loss 0.002073 | Acc 100.00%\n",
            "epoch   7 | iteration   500 | Loss 0.002899 | Acc 100.00%\n",
            "epoch   7 | iteration   600 | Loss 0.005049 | Acc 100.00%\n",
            "epoch   7 | iteration   700 | Loss 0.083359 | Acc 100.00%\n",
            "epoch   7 | iteration   800 | Loss 0.669787 | Acc 80.00%\n",
            "Average Training Loss of Epoch 7: 0.156700 | Acc: 94.84%\n"
          ]
        },
        {
          "output_type": "stream",
          "name": "stderr",
          "text": [
            "/usr/local/lib/python3.10/dist-packages/torch/utils/data/dataloader.py:560: UserWarning: This DataLoader will create 4 worker processes in total. Our suggested max number of worker in current system is 2, which is smaller than what this DataLoader is going to create. Please be aware that excessive worker creation might get DataLoader running slow or even freeze, lower the worker number to avoid potential slowness/freeze if necessary.\n",
            "  warnings.warn(_create_warning_msg(\n"
          ]
        },
        {
          "output_type": "stream",
          "name": "stdout",
          "text": [
            "Average Validation Loss: 0.311509 | Acc: 89.80%\n"
          ]
        },
        {
          "output_type": "stream",
          "name": "stderr",
          "text": [
            "/usr/local/lib/python3.10/dist-packages/torch/utils/data/dataloader.py:560: UserWarning: This DataLoader will create 4 worker processes in total. Our suggested max number of worker in current system is 2, which is smaller than what this DataLoader is going to create. Please be aware that excessive worker creation might get DataLoader running slow or even freeze, lower the worker number to avoid potential slowness/freeze if necessary.\n",
            "  warnings.warn(_create_warning_msg(\n"
          ]
        },
        {
          "output_type": "stream",
          "name": "stdout",
          "text": [
            "epoch   8 | iteration   100 | Loss 0.001355 | Acc 100.00%\n",
            "epoch   8 | iteration   200 | Loss 0.025974 | Acc 100.00%\n",
            "epoch   8 | iteration   300 | Loss 0.001389 | Acc 100.00%\n",
            "epoch   8 | iteration   400 | Loss 0.313212 | Acc 80.00%\n",
            "epoch   8 | iteration   500 | Loss 0.010567 | Acc 100.00%\n",
            "epoch   8 | iteration   600 | Loss 0.050180 | Acc 100.00%\n",
            "epoch   8 | iteration   700 | Loss 0.046351 | Acc 100.00%\n",
            "epoch   8 | iteration   800 | Loss 0.001486 | Acc 100.00%\n",
            "Average Training Loss of Epoch 8: 0.132111 | Acc: 95.84%\n"
          ]
        },
        {
          "output_type": "stream",
          "name": "stderr",
          "text": [
            "/usr/local/lib/python3.10/dist-packages/torch/utils/data/dataloader.py:560: UserWarning: This DataLoader will create 4 worker processes in total. Our suggested max number of worker in current system is 2, which is smaller than what this DataLoader is going to create. Please be aware that excessive worker creation might get DataLoader running slow or even freeze, lower the worker number to avoid potential slowness/freeze if necessary.\n",
            "  warnings.warn(_create_warning_msg(\n"
          ]
        },
        {
          "output_type": "stream",
          "name": "stdout",
          "text": [
            "Average Validation Loss: 0.417668 | Acc: 88.40%\n"
          ]
        },
        {
          "output_type": "stream",
          "name": "stderr",
          "text": [
            "/usr/local/lib/python3.10/dist-packages/torch/utils/data/dataloader.py:560: UserWarning: This DataLoader will create 4 worker processes in total. Our suggested max number of worker in current system is 2, which is smaller than what this DataLoader is going to create. Please be aware that excessive worker creation might get DataLoader running slow or even freeze, lower the worker number to avoid potential slowness/freeze if necessary.\n",
            "  warnings.warn(_create_warning_msg(\n"
          ]
        },
        {
          "output_type": "stream",
          "name": "stdout",
          "text": [
            "epoch   9 | iteration   100 | Loss 0.020479 | Acc 100.00%\n",
            "epoch   9 | iteration   200 | Loss 0.006030 | Acc 100.00%\n",
            "epoch   9 | iteration   300 | Loss 0.043862 | Acc 100.00%\n",
            "epoch   9 | iteration   400 | Loss 0.104907 | Acc 100.00%\n",
            "epoch   9 | iteration   500 | Loss 0.059383 | Acc 100.00%\n",
            "epoch   9 | iteration   600 | Loss 0.010285 | Acc 100.00%\n",
            "epoch   9 | iteration   700 | Loss 0.007393 | Acc 100.00%\n",
            "epoch   9 | iteration   800 | Loss 0.002031 | Acc 100.00%\n",
            "Average Training Loss of Epoch 9: 0.125201 | Acc: 95.66%\n"
          ]
        },
        {
          "output_type": "stream",
          "name": "stderr",
          "text": [
            "/usr/local/lib/python3.10/dist-packages/torch/utils/data/dataloader.py:560: UserWarning: This DataLoader will create 4 worker processes in total. Our suggested max number of worker in current system is 2, which is smaller than what this DataLoader is going to create. Please be aware that excessive worker creation might get DataLoader running slow or even freeze, lower the worker number to avoid potential slowness/freeze if necessary.\n",
            "  warnings.warn(_create_warning_msg(\n"
          ]
        },
        {
          "output_type": "stream",
          "name": "stdout",
          "text": [
            "Average Validation Loss: 0.190106 | Acc: 93.20%\n"
          ]
        }
      ],
      "source": [
        "# took\n",
        "\n",
        "criterion = nn.CrossEntropyLoss()\n",
        "optimizer = optim.Adam(model.parameters(), lr=lr, weight_decay=weight_decay)\n",
        "history = {\"train_loss\" : [], \"train_accuracy\" : [], \"val_loss\" : [], \"val_accuracy\" : []}\n",
        "\n",
        "\n",
        "for epoch in range(num_epochs):\n",
        "    train_hist = train_epoch(model, criterion, optimizer, train_loader, device, epoch, log_interval, writer)\n",
        "    history[\"train_loss\"].append(train_hist[\"train_loss\"])\n",
        "    history[\"train_accuracy\"].append(train_hist[\"train_acc\"])\n",
        "    val_hist = val_epoch(model, criterion, val_loader, device, epoch, writer)\n",
        "    history[\"val_loss\"].append(val_hist['val_loss'])\n",
        "    history[\"val_accuracy\"].append(val_hist['val_acc'])\n",
        "\n",
        "    # adjust learning rate\n",
        "    # scheduler.step()\n",
        "    if not no_save:\n",
        "        torch.save(model.state_dict(), os.path.join(save_path, \"cnn_epoch{:03d}.pth\".format(epoch+1)))\n",
        "        print(\"Saving Model of Epoch {}\".format(epoch+1))\n"
      ]
    },
    {
      "cell_type": "code",
      "source": [
        "# Create a figure and two subplots\n",
        "fig, (ax1, ax2) = plt.subplots(2)\n",
        "\n",
        "# Plot lines on the first subplot\n",
        "ax1.plot(history[\"train_accuracy\"], label='train_accuracy')\n",
        "ax1.plot(history[\"val_accuracy\"], label='eval_accuracy')\n",
        "ax1.set_xlabel('X')\n",
        "ax1.set_ylabel('Y')\n",
        "ax1.set_title('History of F1 score')\n",
        "ax1.legend()\n",
        "\n",
        "# Plot lines on the second subplot\n",
        "ax2.plot(history[\"train_loss\"], label='train_loss')\n",
        "ax2.plot(history[\"val_loss\"], label='eval_loss')\n",
        "ax2.set_xlabel('X')\n",
        "ax2.set_ylabel('Y')\n",
        "ax2.set_title('History of loss')\n",
        "ax2.legend()\n",
        "\n",
        "# Adjust the layout of the subplots\n",
        "plt.tight_layout()\n",
        "\n",
        "# Display the figure\n",
        "plt.show()"
      ],
      "metadata": {
        "colab": {
          "base_uri": "https://localhost:8080/",
          "height": 486
        },
        "id": "XGK9het4vJSg",
        "outputId": "362926dd-b8c3-4587-b2c4-aadb1af53dda"
      },
      "execution_count": null,
      "outputs": [
        {
          "output_type": "display_data",
          "data": {
            "text/plain": [
              "<Figure size 640x480 with 2 Axes>"
            ],
            "image/png": "[encoded data removed]"
          },
          "metadata": {}
        }
      ]
    },
    {
      "cell_type": "code",
      "source": [
        "torch.cuda.empty_cache()"
      ],
      "metadata": {
        "id": "3bIW4QCNykyz"
      },
      "execution_count": null,
      "outputs": []
    },
    {
      "cell_type": "markdown",
      "source": [
        "## **Save the model**"
      ],
      "metadata": {
        "id": "_EIApWyO_X-f"
      }
    },
    {
      "cell_type": "code",
      "execution_count": null,
      "metadata": {
        "id": "iAJrvgH5xcI7"
      },
      "outputs": [],
      "source": [
        "torch.save(model, \"/gdrive/MyDrive/saved_models/resNet/resnet_all_model_state_4.pth\")"
      ]
    },
    {
      "cell_type": "code",
      "source": [
        "modelB = torch.load(\"/gdrive/MyDrive/saved_models/resNet/resnet_all_model_state_2.pth\", map_location=device)"
      ],
      "metadata": {
        "id": "D6d2yFt3Qz0d"
      },
      "execution_count": null,
      "outputs": []
    },
    {
      "cell_type": "code",
      "source": [
        "torch.save(model.state_dict(), \"/gdrive/MyDrive/saved_models/resNet/resnet_all_model_state_dict_metrics.pth\")"
      ],
      "metadata": {
        "id": "olBs5y5QWKBp"
      },
      "execution_count": null,
      "outputs": []
    },
    {
      "cell_type": "code",
      "source": [
        "model_ = AttnResNet(sample_size=32, block = ResidualBlock, layers = [3, 4, 6, 3], num_classes=6).to(device)\n",
        "model_.load_state_dict(torch.load(\"/gdrive/MyDrive/saved_models/resNet/resnet_all_model_state_dict2.pth\", map_location=device), strict=False)"
      ],
      "metadata": {
        "colab": {
          "base_uri": "https://localhost:8080/"
        },
        "id": "-iLQ2o1wnmAy",
        "outputId": "19016468-5fa3-4225-ea23-af32e48e7152"
      },
      "execution_count": null,
      "outputs": [
        {
          "output_type": "execute_result",
          "data": {
            "text/plain": [
              "<All keys matched successfully>"
            ]
          },
          "metadata": {},
          "execution_count": 29
        }
      ]
    },
    {
      "cell_type": "markdown",
      "source": [
        "# **Evaluation**"
      ],
      "metadata": {
        "id": "yQ9DcWHN_Zok"
      }
    },
    {
      "cell_type": "code",
      "source": [
        "criterion = nn.CrossEntropyLoss()\n",
        "num_epochs = 10\n",
        "lr = 1e-4\n",
        "no_save = False\n",
        "log_interval = 100\n",
        "weight_decay = 1e-4\n",
        "optimizer = optim.Adam(modelB.parameters(), lr=lr, weight_decay=weight_decay)\n",
        "writer = SummaryWriter(\"runs/resnet_attention_{:%Y-%m-%d_%H-%M-%S}\".format(datetime.now()))"
      ],
      "metadata": {
        "id": "bYlI7_g37iWb"
      },
      "execution_count": null,
      "outputs": []
    },
    {
      "cell_type": "code",
      "execution_count": null,
      "metadata": {
        "id": "sfXyw3XNofFp"
      },
      "outputs": [],
      "source": [
        "def evaluate_model(model, criterion, dataloader, device,  writer):\n",
        "    model.eval()\n",
        "    losses = []\n",
        "    all_label = []\n",
        "    all_pred = []\n",
        "\n",
        "    with torch.no_grad():\n",
        "        for batch_idx, (inputs, labels) in enumerate(dataloader):\n",
        "            # get the inputs and labels\n",
        "            inputs, labels = inputs.to(device), labels.to(device)\n",
        "            # forward\n",
        "            outputs = model(inputs)\n",
        "            if isinstance(outputs, list):\n",
        "                outputs = outputs[0]\n",
        "            # compute the loss\n",
        "            loss = criterion(outputs, labels.squeeze())\n",
        "            losses.append(loss.item())\n",
        "            # collect labels & prediction\n",
        "            prediction = torch.max(outputs, 1)[1]\n",
        "            all_label.extend(labels.squeeze())\n",
        "            all_pred.extend(prediction)\n",
        "\n",
        "    # Compute the average loss & accuracy\n",
        "    val_loss = sum(losses)/len(losses)\n",
        "    all_label = torch.stack(all_label, dim=0)\n",
        "    all_pred = torch.stack(all_pred, dim=0)\n",
        "\n",
        "    # Classification report\n",
        "    print('\\n\\n\\t\\tCLASSIFICATIION METRICS\\n')\n",
        "    print(metrics.classification_report(all_label.squeeze().cpu().data.squeeze().numpy(), all_pred.cpu().data.squeeze().numpy(),\n",
        "                                        target_names = [\"handwritten\", \"id\", \"invoice\", \"receipt\", \"resume\", \"table\"]))\n",
        "    return metrics.classification_report(all_label.squeeze().cpu().data.squeeze().numpy(), all_pred.cpu().data.squeeze().numpy(),\n",
        "                                        target_names = [\"handwritten\", \"id\", \"invoice\", \"receipt\", \"resume\", \"table\"], output_dict=True)"
      ]
    },
    {
      "cell_type": "code",
      "execution_count": null,
      "metadata": {
        "colab": {
          "base_uri": "https://localhost:8080/"
        },
        "id": "iBJsQLLYZXOf",
        "outputId": "6eb7f0e1-8341-4e86-b117-d0d099d136ed"
      },
      "outputs": [
        {
          "output_type": "stream",
          "name": "stderr",
          "text": [
            "/usr/local/lib/python3.10/dist-packages/torch/utils/data/dataloader.py:560: UserWarning: This DataLoader will create 4 worker processes in total. Our suggested max number of worker in current system is 2, which is smaller than what this DataLoader is going to create. Please be aware that excessive worker creation might get DataLoader running slow or even freeze, lower the worker number to avoid potential slowness/freeze if necessary.\n",
            "  warnings.warn(_create_warning_msg(\n"
          ]
        },
        {
          "output_type": "stream",
          "name": "stdout",
          "text": [
            "\n",
            "\n",
            "\t\tCLASSIFICATIION METRICS\n",
            "\n",
            "              precision    recall  f1-score   support\n",
            "\n",
            " handwritten       0.95      0.95      0.95       186\n",
            "          id       0.93      0.94      0.93       197\n",
            "     invoice       0.97      0.90      0.93       201\n",
            "     receipt       0.98      0.88      0.92       194\n",
            "      resume       0.84      0.99      0.91       179\n",
            "       table       0.89      0.89      0.89       171\n",
            "\n",
            "    accuracy                           0.93      1128\n",
            "   macro avg       0.93      0.93      0.93      1128\n",
            "weighted avg       0.93      0.93      0.93      1128\n",
            "\n"
          ]
        }
      ],
      "source": [
        "report = evaluate_model(modelB, criterion, test_loader, device, writer)\n",
        "df = pd.DataFrame(report).transpose()"
      ]
    },
    {
      "cell_type": "code",
      "source": [
        "from sklearn.metrics import roc_auc_score\n",
        "\n",
        "def eval_model_pred(model, dataloaders):\n",
        "    all_pred = []\n",
        "    all_label = []\n",
        "\n",
        "    model.eval()   # Set model to evaluate mode\n",
        "\n",
        "    # Iterate over data.\n",
        "    for inputs, labels in dataloaders:\n",
        "        inputs = inputs.to(device)\n",
        "        labels = labels.to(device)\n",
        "\n",
        "        # zero the parameter gradients\n",
        "        outputs = model(inputs)[0]\n",
        "        prediction = torch.max(outputs, 1)[1]\n",
        "\n",
        "        all_pred.extend(prediction)\n",
        "        all_label.extend(labels.cpu().numpy())\n",
        "\n",
        "    return all_label, all_pred\n",
        "\n",
        "original_labels, all_pred = eval_model_pred(modelB, test_loader)"
      ],
      "metadata": {
        "colab": {
          "base_uri": "https://localhost:8080/"
        },
        "id": "k5cG3JmD5eko",
        "outputId": "19bedd34-401e-4ed1-8754-77a794ecdaf8"
      },
      "execution_count": null,
      "outputs": [
        {
          "output_type": "stream",
          "name": "stderr",
          "text": [
            "/usr/local/lib/python3.10/dist-packages/torch/utils/data/dataloader.py:560: UserWarning: This DataLoader will create 4 worker processes in total. Our suggested max number of worker in current system is 2, which is smaller than what this DataLoader is going to create. Please be aware that excessive worker creation might get DataLoader running slow or even freeze, lower the worker number to avoid potential slowness/freeze if necessary.\n",
            "  warnings.warn(_create_warning_msg(\n"
          ]
        }
      ]
    },
    {
      "cell_type": "code",
      "source": [
        "from sklearn.metrics import confusion_matrix\n",
        "cm = confusion_matrix(torch.Tensor(original_labels).cpu(), torch.Tensor(all_pred).cpu())\n",
        "classes = [\"handwritten\", \"id\", \"invoice\", \"receipt\", \"resume\", \"table\"]\n",
        "specificity = {}\n",
        "\n",
        "\n",
        "for i in range(len(cm)):\n",
        "    tn = np.sum(np.delete(np.delete(cm, i, 0), i, 1))\n",
        "    fp = np.sum(cm[:, i]) - cm[i, i]\n",
        "    specificity[classes[i]] = tn / (tn + fp)\n",
        "specificity_values = list(specificity.values())\n",
        "macro_avg_specificity = sum(specificity_values) / len(specificity_values)\n",
        "\n",
        "print(\"Macro Average Specificity:\", macro_avg_specificity)\n",
        "print(specificity)\n"
      ],
      "metadata": {
        "colab": {
          "base_uri": "https://localhost:8080/"
        },
        "id": "KOszvUqc5t8A",
        "outputId": "88ae5bbe-df11-4ace-9784-8d298b71bb67"
      },
      "execution_count": null,
      "outputs": [
        {
          "output_type": "stream",
          "name": "stdout",
          "text": [
            "Macro Average Specificity: 0.9851792550609483\n",
            "{'handwritten': 0.9904458598726115, 'id': 0.9838882921589689, 'invoice': 0.9946062567421791, 'receipt': 0.9957173447537473, 'resume': 0.9652265542676501, 'table': 0.9811912225705329}\n"
          ]
        }
      ]
    },
    {
      "cell_type": "code",
      "source": [
        "print('\\t\\tCLASSIFICATIION METRICS\\n\\tCNN with attention mechanism for pipeline ')\n",
        "print('______________________________________________________')\n",
        "df"
      ],
      "metadata": {
        "colab": {
          "base_uri": "https://localhost:8080/",
          "height": 386
        },
        "id": "td3VjfGf4QuZ",
        "outputId": "60fe2835-65ce-4930-aee7-94029cd5f3cc"
      },
      "execution_count": null,
      "outputs": [
        {
          "output_type": "stream",
          "name": "stdout",
          "text": [
            "\t\tCLASSIFICATIION METRICS\n",
            "\tCNN with attention mechanism for pipeline \n",
            "______________________________________________________\n"
          ]
        },
        {
          "output_type": "execute_result",
          "data": {
            "text/plain": [
              "              precision    recall  f1-score     support\n",
              "handwritten    0.980000  0.918750  0.948387  160.000000\n",
              "id             0.928571  0.994118  0.960227  170.000000\n",
              "invoice        0.924528  0.918750  0.921630  160.000000\n",
              "receipt        0.992481  0.795181  0.882943  166.000000\n",
              "resume         0.800000  0.971751  0.877551  177.000000\n",
              "table          0.891156  0.856209  0.873333  153.000000\n",
              "accuracy       0.910751  0.910751  0.910751    0.910751\n",
              "macro avg      0.919456  0.909126  0.910679  986.000000\n",
              "weighted avg   0.918134  0.910751  0.910706  986.000000"
            ],
            "text/html": [
              "\n",
              "  <div id=\"df-0f598ae8-51bf-4e8a-a491-d9f457086b27\">\n",
              "    <div class=\"colab-df-container\">\n",
              "      <div>\n",
              "<style scoped>\n",
              "    .dataframe tbody tr th:only-of-type {\n",
              "        vertical-align: middle;\n",
              "    }\n",
              "\n",
              "    .dataframe tbody tr th {\n",
              "        vertical-align: top;\n",
              "    }\n",
              "\n",
              "    .dataframe thead th {\n",
              "        text-align: right;\n",
              "    }\n",
              "</style>\n",
              "<table border=\"1\" class=\"dataframe\">\n",
              "  <thead>\n",
              "    <tr style=\"text-align: right;\">\n",
              "      <th></th>\n",
              "      <th>precision</th>\n",
              "      <th>recall</th>\n",
              "      <th>f1-score</th>\n",
              "      <th>support</th>\n",
              "    </tr>\n",
              "  </thead>\n",
              "  <tbody>\n",
              "    <tr>\n",
              "      <th>handwritten</th>\n",
              "      <td>0.980000</td>\n",
              "      <td>0.918750</td>\n",
              "      <td>0.948387</td>\n",
              "      <td>160.000000</td>\n",
              "    </tr>\n",
              "    <tr>\n",
              "      <th>id</th>\n",
              "      <td>0.928571</td>\n",
              "      <td>0.994118</td>\n",
              "      <td>0.960227</td>\n",
              "      <td>170.000000</td>\n",
              "    </tr>\n",
              "    <tr>\n",
              "      <th>invoice</th>\n",
              "      <td>0.924528</td>\n",
              "      <td>0.918750</td>\n",
              "      <td>0.921630</td>\n",
              "      <td>160.000000</td>\n",
              "    </tr>\n",
              "    <tr>\n",
              "      <th>receipt</th>\n",
              "      <td>0.992481</td>\n",
              "      <td>0.795181</td>\n",
              "      <td>0.882943</td>\n",
              "      <td>166.000000</td>\n",
              "    </tr>\n",
              "    <tr>\n",
              "      <th>resume</th>\n",
              "      <td>0.800000</td>\n",
              "      <td>0.971751</td>\n",
              "      <td>0.877551</td>\n",
              "      <td>177.000000</td>\n",
              "    </tr>\n",
              "    <tr>\n",
              "      <th>table</th>\n",
              "      <td>0.891156</td>\n",
              "      <td>0.856209</td>\n",
              "      <td>0.873333</td>\n",
              "      <td>153.000000</td>\n",
              "    </tr>\n",
              "    <tr>\n",
              "      <th>accuracy</th>\n",
              "      <td>0.910751</td>\n",
              "      <td>0.910751</td>\n",
              "      <td>0.910751</td>\n",
              "      <td>0.910751</td>\n",
              "    </tr>\n",
              "    <tr>\n",
              "      <th>macro avg</th>\n",
              "      <td>0.919456</td>\n",
              "      <td>0.909126</td>\n",
              "      <td>0.910679</td>\n",
              "      <td>986.000000</td>\n",
              "    </tr>\n",
              "    <tr>\n",
              "      <th>weighted avg</th>\n",
              "      <td>0.918134</td>\n",
              "      <td>0.910751</td>\n",
              "      <td>0.910706</td>\n",
              "      <td>986.000000</td>\n",
              "    </tr>\n",
              "  </tbody>\n",
              "</table>\n",
              "</div>\n",
              "      <button class=\"colab-df-convert\" onclick=\"convertToInteractive('df-0f598ae8-51bf-4e8a-a491-d9f457086b27')\"\n",
              "              title=\"Convert this dataframe to an interactive table.\"\n",
              "              style=\"display:none;\">\n",
              "        \n",
              "  <svg xmlns=\"http://www.w3.org/2000/svg\" height=\"24px\"viewBox=\"0 0 24 24\"\n",
              "       width=\"24px\">\n",
              "    <path d=\"M0 0h24v24H0V0z\" fill=\"none\"/>\n",
              "    <path d=\"M18.56 5.44l.94 2.06.94-2.06 2.06-.94-2.06-.94-.94-2.06-.94 2.06-2.06.94zm-11 1L8.5 8.5l.94-2.06 2.06-.94-2.06-.94L8.5 2.5l-.94 2.06-2.06.94zm10 10l.94 2.06.94-2.06 2.06-.94-2.06-.94-.94-2.06-.94 2.06-2.06.94z\"/><path d=\"M17.41 7.96l-1.37-1.37c-.4-.4-.92-.59-1.43-.59-.52 0-1.04.2-1.43.59L10.3 9.45l-7.72 7.72c-.78.78-.78 2.05 0 2.83L4 21.41c.39.39.9.59 1.41.59.51 0 1.02-.2 1.41-.59l7.78-7.78 2.81-2.81c.8-.78.8-2.07 0-2.86zM5.41 20L4 18.59l7.72-7.72 1.47 1.35L5.41 20z\"/>\n",
              "  </svg>\n",
              "      </button>\n",
              "      \n",
              "  <style>\n",
              "    .colab-df-container {\n",
              "      display:flex;\n",
              "      flex-wrap:wrap;\n",
              "      gap: 12px;\n",
              "    }\n",
              "\n",
              "    .colab-df-convert {\n",
              "      background-color: #E8F0FE;\n",
              "      border: none;\n",
              "      border-radius: 50%;\n",
              "      cursor: pointer;\n",
              "      display: none;\n",
              "      fill: #1967D2;\n",
              "      height: 32px;\n",
              "      padding: 0 0 0 0;\n",
              "      width: 32px;\n",
              "    }\n",
              "\n",
              "    .colab-df-convert:hover {\n",
              "      background-color: #E2EBFA;\n",
              "      box-shadow: 0px 1px 2px rgba(60, 64, 67, 0.3), 0px 1px 3px 1px rgba(60, 64, 67, 0.15);\n",
              "      fill: #174EA6;\n",
              "    }\n",
              "\n",
              "    [theme=dark] .colab-df-convert {\n",
              "      background-color: #3B4455;\n",
              "      fill: #D2E3FC;\n",
              "    }\n",
              "\n",
              "    [theme=dark] .colab-df-convert:hover {\n",
              "      background-color: #434B5C;\n",
              "      box-shadow: 0px 1px 3px 1px rgba(0, 0, 0, 0.15);\n",
              "      filter: drop-shadow(0px 1px 2px rgba(0, 0, 0, 0.3));\n",
              "      fill: #FFFFFF;\n",
              "    }\n",
              "  </style>\n",
              "\n",
              "      <script>\n",
              "        const buttonEl =\n",
              "          document.querySelector('#df-0f598ae8-51bf-4e8a-a491-d9f457086b27 button.colab-df-convert');\n",
              "        buttonEl.style.display =\n",
              "          google.colab.kernel.accessAllowed ? 'block' : 'none';\n",
              "\n",
              "        async function convertToInteractive(key) {\n",
              "          const element = document.querySelector('#df-0f598ae8-51bf-4e8a-a491-d9f457086b27');\n",
              "          const dataTable =\n",
              "            await google.colab.kernel.invokeFunction('convertToInteractive',\n",
              "                                                     [key], {});\n",
              "          if (!dataTable) return;\n",
              "\n",
              "          const docLinkHtml = 'Like what you see? Visit the ' +\n",
              "            '<a target=\"_blank\" href=https://colab.research.google.com/notebooks/data_table.ipynb>data table notebook</a>'\n",
              "            + ' to learn more about interactive tables.';\n",
              "          element.innerHTML = '';\n",
              "          dataTable['output_type'] = 'display_data';\n",
              "          await google.colab.output.renderOutput(dataTable, element);\n",
              "          const docLink = document.createElement('div');\n",
              "          docLink.innerHTML = docLinkHtml;\n",
              "          element.appendChild(docLink);\n",
              "        }\n",
              "      </script>\n",
              "    </div>\n",
              "  </div>\n",
              "  "
            ]
          },
          "metadata": {},
          "execution_count": 28
        }
      ]
    },
    {
      "cell_type": "markdown",
      "source": [
        "# **Inference**"
      ],
      "metadata": {
        "id": "rYjDLqrf_dcd"
      }
    },
    {
      "cell_type": "code",
      "execution_count": null,
      "metadata": {
        "id": "geQ01at8opD2"
      },
      "outputs": [],
      "source": [
        "def to_device(data, device):\n",
        "    \"Move data to the device\"\n",
        "    if isinstance(data,(list,tuple)):\n",
        "        return [to_device(x,device) for x in data]\n",
        "    return data.to(device,non_blocking = True)"
      ]
    },
    {
      "cell_type": "code",
      "execution_count": null,
      "metadata": {
        "id": "5a5uu5choNvz"
      },
      "outputs": [],
      "source": [
        "def predict_img_class(img,model):\n",
        "    classes = [\"handwritten\", \"id\", \"invoice\", \"receipt\", \"resume\", \"table\"]\n",
        "    model.eval()\n",
        "    img = to_device(img.unsqueeze(0), device)\n",
        "    logs =  model(img)[0]\n",
        "    softmax = torch.nn.Softmax(dim=1)\n",
        "    probs = softmax(logs)\n",
        "    classe = torch.argmax(probs, 1)\n",
        "    return classes[classe]\n"
      ]
    },
    {
      "cell_type": "markdown",
      "source": [
        "**Number of errors**\n",
        "\n",
        "*   Handwriting -> 0/9\n",
        "*   Id          -> 3/9\n",
        "*   Invoice     -> 0/7\n",
        "*   Receipt     -> 2/7\n",
        "*   Resume      -> 0/7\n",
        "*   Table       -> 0/7"
      ],
      "metadata": {
        "id": "OjFJlqu6BYiw"
      }
    },
    {
      "cell_type": "code",
      "source": [
        "from google.colab import drive\n",
        "drive.mount('/gdrive', force_remount=True)"
      ],
      "metadata": {
        "colab": {
          "base_uri": "https://localhost:8080/"
        },
        "id": "Yd6MX18Il4nD",
        "outputId": "5d1af970-1831-453a-87f8-83b580d0c7c8"
      },
      "execution_count": null,
      "outputs": [
        {
          "output_type": "stream",
          "name": "stdout",
          "text": [
            "Mounted at /gdrive\n"
          ]
        }
      ]
    },
    {
      "cell_type": "markdown",
      "source": [
        "_3\n",
        "* handwriting 0/9\n",
        "* id 4/9, 2/5\n",
        "* invoice 0/7, 0/5\n",
        "* receipt 1/7, 5/8\n",
        "* resume 0/7\n",
        "* table 0/7\n"
      ],
      "metadata": {
        "id": "AoHc3y_OFCFf"
      }
    },
    {
      "cell_type": "code",
      "execution_count": null,
      "metadata": {
        "id": "LgnPkTp-oPs0",
        "colab": {
          "base_uri": "https://localhost:8080/"
        },
        "outputId": "8a2f902c-01cf-4629-d47b-dd4df6f40886"
      },
      "outputs": [
        {
          "output_type": "stream",
          "name": "stdout",
          "text": [
            "Predicted Class : invoice\n",
            "execution time 0.03122711181640625\n"
          ]
        }
      ],
      "source": [
        "from PIL import Image\n",
        "import numpy as np\n",
        "import time\n",
        "#open image file\n",
        "img = Image.open(\"/gdrive/MyDrive/test_images/table7.jpg\")\n",
        "\n",
        "#resize image\n",
        "img = img.resize((150,150))\n",
        "\n",
        "channels = transforms.ToTensor()(img)\n",
        "if channels.shape[0]>3 or channels.shape[0]<3:\n",
        "  img = img.convert(mode='RGB')\n",
        "\n",
        "#convert image to tensor\n",
        "img = transforms.ToTensor()(img)\n",
        "\n",
        "#print image\n",
        "#plt.imshow(img.permute(1,2,0))\n",
        "\n",
        "start_time = time.time()\n",
        "classe = predict_img_class(img, modelB)\n",
        "end_time = time.time()\n",
        "\n",
        "#prdict image label\n",
        "print(f\"Predicted Class : {classe}\\nexecution time {end_time - start_time}\")"
      ]
    }
  ],
  "metadata": {
    "colab": {
      "provenance": [],
      "gpuType": "T4"
    },
    "kernelspec": {
      "display_name": "Python 3",
      "name": "python3"
    },
    "language_info": {
      "codemirror_mode": {
        "name": "ipython",
        "version": 3
      },
      "file_extension": ".py",
      "mimetype": "text/x-python",
      "name": "python",
      "nbconvert_exporter": "python",
      "pygments_lexer": "ipython3",
      "version": "3.10.4"
    },
    "accelerator": "GPU"
  },
  "nbformat": 4,
  "nbformat_minor": 0
}