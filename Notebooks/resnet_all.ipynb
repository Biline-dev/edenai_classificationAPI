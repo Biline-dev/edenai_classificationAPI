{
  "cells": [
    {
      "cell_type": "markdown",
      "metadata": {
        "id": "cFJCn2SI_5US"
      },
      "source": [
        "# **Download libraries**"
      ]
    },
    {
      "cell_type": "code",
      "execution_count": null,
      "metadata": {
        "colab": {
          "base_uri": "https://localhost:8080/"
        },
        "id": "KvBfrpC0ZAMe",
        "outputId": "f7184b14-91f6-4735-9008-179f95dafc28"
      },
      "outputs": [
        {
          "name": "stdout",
          "output_type": "stream",
          "text": [
            "Looking in indexes: https://pypi.org/simple, https://us-python.pkg.dev/colab-wheels/public/simple/\n",
            "Collecting tensorboardX\n",
            "  Downloading tensorboardX-2.6-py2.py3-none-any.whl (114 kB)\n",
            "\u001b[2K     \u001b[90m━━━━━━━━━━━━━━━━━━━━━━━━━━━━━━━━━━━━━━━\u001b[0m \u001b[32m114.5/114.5 kB\u001b[0m \u001b[31m2.6 MB/s\u001b[0m eta \u001b[36m0:00:00\u001b[0m\n",
            "\u001b[?25hRequirement already satisfied: numpy in /usr/local/lib/python3.10/dist-packages (from tensorboardX) (1.22.4)\n",
            "Requirement already satisfied: packaging in /usr/local/lib/python3.10/dist-packages (from tensorboardX) (23.1)\n",
            "Requirement already satisfied: protobuf<4,>=3.8.0 in /usr/local/lib/python3.10/dist-packages (from tensorboardX) (3.20.3)\n",
            "Installing collected packages: tensorboardX\n",
            "Successfully installed tensorboardX-2.6\n",
            "\u001b[2K     \u001b[90m━━━━━━━━━━━━━━━━━━━━━━━━━━━━━━━━━━━━━━━━\u001b[0m \u001b[32m81.4/81.4 kB\u001b[0m \u001b[31m1.0 MB/s\u001b[0m eta \u001b[36m0:00:00\u001b[0m\n",
            "\u001b[2K     \u001b[90m━━━━━━━━━━━━━━━━━━━━━━━━━━━━━━━━━━━━━━━━\u001b[0m \u001b[32m43.6/43.6 kB\u001b[0m \u001b[31m3.2 MB/s\u001b[0m eta \u001b[36m0:00:00\u001b[0m\n",
            "\u001b[?25h  Preparing metadata (setup.py) ... \u001b[?25l\u001b[?25hdone\n",
            "\u001b[2K     \u001b[90m━━━━━━━━━━━━━━━━━━━━━━━━━━━━━━━━━━━━━━\u001b[0m \u001b[32m474.6/474.6 kB\u001b[0m \u001b[31m29.9 MB/s\u001b[0m eta \u001b[36m0:00:00\u001b[0m\n",
            "\u001b[2K     \u001b[90m━━━━━━━━━━━━━━━━━━━━━━━━━━━━━━━━━━━━━━━\u001b[0m \u001b[32m110.5/110.5 kB\u001b[0m \u001b[31m5.5 MB/s\u001b[0m eta \u001b[36m0:00:00\u001b[0m\n",
            "\u001b[2K     \u001b[90m━━━━━━━━━━━━━━━━━━━━━━━━━━━━━━━━━━━━━━\u001b[0m \u001b[32m212.5/212.5 kB\u001b[0m \u001b[31m22.0 MB/s\u001b[0m eta \u001b[36m0:00:00\u001b[0m\n",
            "\u001b[2K     \u001b[90m━━━━━━━━━━━━━━━━━━━━━━━━━━━━━━━━━━━━━━━\u001b[0m \u001b[32m134.3/134.3 kB\u001b[0m \u001b[31m9.4 MB/s\u001b[0m eta \u001b[36m0:00:00\u001b[0m\n",
            "\u001b[2K     \u001b[90m━━━━━━━━━━━━━━━━━━━━━━━━━━━━━━━━━━━━━━\u001b[0m \u001b[32m224.5/224.5 kB\u001b[0m \u001b[31m25.6 MB/s\u001b[0m eta \u001b[36m0:00:00\u001b[0m\n",
            "\u001b[2K     \u001b[90m━━━━━━━━━━━━━━━━━━━━━━━━━━━━━━━━━━━━━━━━\u001b[0m \u001b[32m1.0/1.0 MB\u001b[0m \u001b[31m50.7 MB/s\u001b[0m eta \u001b[36m0:00:00\u001b[0m\n",
            "\u001b[2K     \u001b[90m━━━━━━━━━━━━━━━━━━━━━━━━━━━━━━━━━━━━━━━\u001b[0m \u001b[32m114.5/114.5 kB\u001b[0m \u001b[31m7.3 MB/s\u001b[0m eta \u001b[36m0:00:00\u001b[0m\n",
            "\u001b[2K     \u001b[90m━━━━━━━━━━━━━━━━━━━━━━━━━━━━━━━━━━━━━━\u001b[0m \u001b[32m268.8/268.8 kB\u001b[0m \u001b[31m25.1 MB/s\u001b[0m eta \u001b[36m0:00:00\u001b[0m\n",
            "\u001b[2K     \u001b[90m━━━━━━━━━━━━━━━━━━━━━━━━━━━━━━━━━━━━━━\u001b[0m \u001b[32m149.6/149.6 kB\u001b[0m \u001b[31m16.6 MB/s\u001b[0m eta \u001b[36m0:00:00\u001b[0m\n",
            "\u001b[?25h  Building wheel for seqeval (setup.py) ... \u001b[?25l\u001b[?25hdone\n"
          ]
        }
      ],
      "source": [
        "!pip install tensorboardX\n",
        "!pip install -q evaluate seqeval"
      ]
    },
    {
      "cell_type": "markdown",
      "metadata": {
        "id": "zhIiQ4oJ_8j3"
      },
      "source": [
        "# **Import Libraries**"
      ]
    },
    {
      "cell_type": "code",
      "execution_count": null,
      "metadata": {
        "id": "8yFD1oL0ZEoW"
      },
      "outputs": [],
      "source": [
        "import torch\n",
        "import torch.nn as nn\n",
        "import torch.nn.functional as F\n",
        "import torchvision.utils as utils\n",
        "import torchvision\n",
        "import torch.optim as optim\n",
        "from torchvision import transforms\n",
        "from torchvision.datasets import ImageFolder\n",
        "from torch.utils.data.dataloader import DataLoader\n",
        "from torch.utils.data import random_split\n",
        "from sklearn.metrics import accuracy_score\n",
        "from sklearn import metrics\n",
        "from datetime import datetime\n",
        "from tensorboardX import SummaryWriter\n",
        "import matplotlib.pyplot as plt\n",
        "import cv2\n",
        "import math\n",
        "import os\n",
        "import numpy as np\n",
        "from tqdm.auto import tqdm\n",
        "import evaluate\n",
        "import pandas as pd\n",
        "from torchvision.models import resnet50\n",
        "import time\n",
        "import copy\n",
        "from PIL import Image\n",
        "import numpy as np\n",
        "import matplotlib.pyplot as plt\n",
        "from sklearn.metrics import confusion_matrix"
      ]
    },
    {
      "cell_type": "code",
      "execution_count": null,
      "metadata": {
        "colab": {
          "base_uri": "https://localhost:8080/"
        },
        "id": "GSpzSPA9ZITL",
        "outputId": "80c7822c-d21d-48b6-e3be-538ac4db2730"
      },
      "outputs": [
        {
          "name": "stdout",
          "output_type": "stream",
          "text": [
            "Mounted at /gdrive\n"
          ]
        },
        {
          "data": {
            "text/plain": [
              "device(type='cuda')"
            ]
          },
          "execution_count": 3,
          "metadata": {},
          "output_type": "execute_result"
        }
      ],
      "source": [
        "from google.colab import drive\n",
        "drive.mount('/gdrive', force_remount=True)\n",
        "# switch to cuda\n",
        "device = torch.device('cuda' if torch.cuda.is_available() else 'cpu')\n",
        "device"
      ]
    },
    {
      "cell_type": "markdown",
      "metadata": {
        "id": "Ddgkd90b__7M"
      },
      "source": [
        "# **Load dataset**"
      ]
    },
    {
      "cell_type": "code",
      "execution_count": null,
      "metadata": {
        "id": "76UgzX4eZPNO"
      },
      "outputs": [],
      "source": [
        "#train and test data directory\n",
        "data_dir = \"/gdrive/MyDrive/data/train_resnet_all/train/\"\n",
        "test_data_dir = \"/gdrive/MyDrive/data/train_resnet_all/test/\"\n",
        "\n",
        "#load the train and test data with augmentation\n",
        "dataset = ImageFolder(data_dir,transform = transforms.Compose([\n",
        "    transforms.Resize((150,150)),\n",
        "    transforms.ToTensor(),\n",
        "\n",
        "]))\n",
        "test_dataset = ImageFolder(test_data_dir,transforms.Compose([\n",
        "    transforms.Resize((150,150)),\n",
        "    transforms.ToTensor()\n",
        "]))"
      ]
    },
    {
      "cell_type": "code",
      "execution_count": null,
      "metadata": {
        "colab": {
          "base_uri": "https://localhost:8080/"
        },
        "id": "OEe5jjjpZXp2",
        "outputId": "b01dce21-64c3-4d56-e97f-369f8aa671d1"
      },
      "outputs": [
        {
          "name": "stdout",
          "output_type": "stream",
          "text": [
            "Length of Train Data : 3440\n",
            "Length of Validation Data : 500\n"
          ]
        },
        {
          "name": "stderr",
          "output_type": "stream",
          "text": [
            "/usr/local/lib/python3.10/dist-packages/torch/utils/data/dataloader.py:560: UserWarning: This DataLoader will create 4 worker processes in total. Our suggested max number of worker in current system is 2, which is smaller than what this DataLoader is going to create. Please be aware that excessive worker creation might get DataLoader running slow or even freeze, lower the worker number to avoid potential slowness/freeze if necessary.\n",
            "  warnings.warn(_create_warning_msg(\n"
          ]
        }
      ],
      "source": [
        "batch_size = 2\n",
        "val_size = 500\n",
        "train_size = len(dataset) - val_size\n",
        "\n",
        "train_data,val_data = random_split(dataset,[train_size,val_size])\n",
        "print(f\"Length of Train Data : {len(train_data)}\")\n",
        "print(f\"Length of Validation Data : {len(val_data)}\")\n",
        "#load the train and validation into batches.\n",
        "train_loader = DataLoader(train_data, batch_size, shuffle = True, num_workers = 4, pin_memory = True)\n",
        "val_loader = DataLoader(val_data, batch_size*2, num_workers = 4, pin_memory = True)\n",
        "test_loader = DataLoader(test_dataset, batch_size*2, num_workers = 4, pin_memory = True)"
      ]
    },
    {
      "cell_type": "code",
      "execution_count": null,
      "metadata": {
        "id": "iRsGcHU6cBwz"
      },
      "outputs": [],
      "source": [
        "data_loader = {\"train\" : train_loader, \"val\" : val_loader}"
      ]
    },
    {
      "cell_type": "markdown",
      "metadata": {
        "id": "1jXUOaYhADqG"
      },
      "source": [
        "# **Train epochs**"
      ]
    },
    {
      "cell_type": "code",
      "execution_count": null,
      "metadata": {
        "id": "dG1A5LSraFZg"
      },
      "outputs": [],
      "source": [
        "def train_model(model, dataloaders, criterion, optimizer, num_epochs=25, is_inception=False):\n",
        "    since = time.time()\n",
        "\n",
        "    val_acc_history = []\n",
        "    val_loss_history = []\n",
        "\n",
        "    train_acc_history = []\n",
        "    train_loss_history = []\n",
        "\n",
        "    best_model_wts = copy.deepcopy(model.state_dict())\n",
        "    best_acc = 0.0\n",
        "\n",
        "    for epoch in range(num_epochs):\n",
        "        print('Epoch {}/{}'.format(epoch, num_epochs - 1))\n",
        "        print('-' * 10)\n",
        "\n",
        "        # Each epoch has a training and validation phase\n",
        "        for phase in ['train', 'val']:\n",
        "            if phase == 'train':\n",
        "                model.train()  # Set model to training mode\n",
        "            else:\n",
        "                model.eval()   # Set model to evaluate mode\n",
        "\n",
        "            running_loss = 0.0\n",
        "            running_corrects = 0\n",
        "\n",
        "            # Iterate over data.\n",
        "            for inputs, labels in dataloaders[phase]:\n",
        "                inputs = inputs.to(device)\n",
        "                labels = labels.to(device)\n",
        "\n",
        "                # zero the parameter gradients\n",
        "                optimizer.zero_grad()\n",
        "\n",
        "                # forward\n",
        "                # track history if only in train\n",
        "                with torch.set_grad_enabled(phase == 'train'):\n",
        "                    # Get model outputs and calculate loss\n",
        "                    # Special case for inception because in training it has an auxiliary output. In train\n",
        "                    #   mode we calculate the loss by summing the final output and the auxiliary output\n",
        "                    #   but in testing we only consider the final output.\n",
        "                    if is_inception and phase == 'train':\n",
        "                        # From https://discuss.pytorch.org/t/how-to-optimize-inception-model-with-auxiliary-classifiers/7958\n",
        "                        outputs, aux_outputs = model(inputs)\n",
        "                        loss1 = criterion(outputs, labels)\n",
        "                        loss2 = criterion(aux_outputs, labels)\n",
        "                        loss = loss1 + 0.4*loss2\n",
        "                    else:\n",
        "                        outputs = model(inputs)\n",
        "                        loss = criterion(outputs, labels)\n",
        "\n",
        "                    _, preds = torch.max(outputs, 1)\n",
        "\n",
        "\n",
        "                    # backward + optimize only if in training phase\n",
        "                    if phase == 'train':\n",
        "                        loss.backward()\n",
        "                        optimizer.step()\n",
        "\n",
        "                # statistics\n",
        "                running_loss += loss.item() * inputs.size(0)\n",
        "                running_corrects += torch.sum(preds == labels.data)\n",
        "\n",
        "            epoch_loss = running_loss / len(dataloaders[phase].dataset)\n",
        "            epoch_acc = running_corrects.double() / len(dataloaders[phase].dataset)\n",
        "\n",
        "            print('{} Loss: {:.4f} Acc: {:.4f}'.format(phase, epoch_loss, epoch_acc))\n",
        "\n",
        "            # deep copy the model\n",
        "            if phase == 'val' and epoch_acc > best_acc:\n",
        "                best_acc = epoch_acc\n",
        "                best_model_wts = copy.deepcopy(model.state_dict())\n",
        "            if phase == 'val':\n",
        "                val_acc_history.append(epoch_acc)\n",
        "                val_loss_history.append(epoch_loss)\n",
        "            elif phase == 'train' :\n",
        "                train_acc_history.append(epoch_acc)\n",
        "                train_loss_history.append(epoch_loss)\n",
        "\n",
        "        print()\n",
        "\n",
        "    time_elapsed = time.time() - since\n",
        "    print('Training complete in {:.0f}m {:.0f}s'.format(time_elapsed // 60, time_elapsed % 60))\n",
        "    print('Best val Acc: {:4f}'.format(best_acc))\n",
        "\n",
        "    # load best model weights\n",
        "    model.load_state_dict(best_model_wts)\n",
        "    return model, {'val_acc' : val_acc_history, 'val_loss' : val_loss_history, 'train_acc' : train_acc_history, 'train_loss' : train_loss_history}"
      ]
    },
    {
      "cell_type": "markdown",
      "metadata": {
        "id": "n-3UgpHrAGhT"
      },
      "source": [
        "# **Set parameters**"
      ]
    },
    {
      "cell_type": "code",
      "execution_count": null,
      "metadata": {
        "id": "M0TUGzbPaal6"
      },
      "outputs": [],
      "source": [
        "def set_parameter_requires_grad(model, feature_extracting):\n",
        "    if feature_extracting:\n",
        "        for param in model.parameters():\n",
        "            param.requires_grad = False"
      ]
    },
    {
      "cell_type": "code",
      "execution_count": null,
      "metadata": {
        "id": "yPTdrUUbZaOi"
      },
      "outputs": [],
      "source": [
        "# Number of classes in the dataset\n",
        "num_classes = 6\n",
        "\n",
        "# Batch size for training (change depending on how much memory you have)\n",
        "#batch_size = 8\n",
        "\n",
        "# Number of epochs to train for\n",
        "num_epochs = 15\n",
        "\n",
        "# Flag for feature extracting. When False, we finetune the whole model,\n",
        "#   when True we only update the reshaped layer params\n",
        "feature_extract = False\n",
        "\n",
        "model_ft = resnet50(weights=None)\n",
        "set_parameter_requires_grad(model_ft, feature_extract)\n",
        "num_ftrs = model_ft.fc.in_features\n",
        "model_ft.fc = nn.Linear(num_ftrs, num_classes)\n",
        "input_size = 224"
      ]
    },
    {
      "cell_type": "code",
      "execution_count": null,
      "metadata": {
        "colab": {
          "base_uri": "https://localhost:8080/"
        },
        "id": "_CUYKUXRa_yY",
        "outputId": "9967b174-ce67-4c5e-b05d-eba93679c659"
      },
      "outputs": [
        {
          "name": "stdout",
          "output_type": "stream",
          "text": [
            "Params to learn:\n",
            "\t conv1.weight\n",
            "\t bn1.weight\n",
            "\t bn1.bias\n",
            "\t layer1.0.conv1.weight\n",
            "\t layer1.0.bn1.weight\n",
            "\t layer1.0.bn1.bias\n",
            "\t layer1.0.conv2.weight\n",
            "\t layer1.0.bn2.weight\n",
            "\t layer1.0.bn2.bias\n",
            "\t layer1.0.conv3.weight\n",
            "\t layer1.0.bn3.weight\n",
            "\t layer1.0.bn3.bias\n",
            "\t layer1.0.downsample.0.weight\n",
            "\t layer1.0.downsample.1.weight\n",
            "\t layer1.0.downsample.1.bias\n",
            "\t layer1.1.conv1.weight\n",
            "\t layer1.1.bn1.weight\n",
            "\t layer1.1.bn1.bias\n",
            "\t layer1.1.conv2.weight\n",
            "\t layer1.1.bn2.weight\n",
            "\t layer1.1.bn2.bias\n",
            "\t layer1.1.conv3.weight\n",
            "\t layer1.1.bn3.weight\n",
            "\t layer1.1.bn3.bias\n",
            "\t layer1.2.conv1.weight\n",
            "\t layer1.2.bn1.weight\n",
            "\t layer1.2.bn1.bias\n",
            "\t layer1.2.conv2.weight\n",
            "\t layer1.2.bn2.weight\n",
            "\t layer1.2.bn2.bias\n",
            "\t layer1.2.conv3.weight\n",
            "\t layer1.2.bn3.weight\n",
            "\t layer1.2.bn3.bias\n",
            "\t layer2.0.conv1.weight\n",
            "\t layer2.0.bn1.weight\n",
            "\t layer2.0.bn1.bias\n",
            "\t layer2.0.conv2.weight\n",
            "\t layer2.0.bn2.weight\n",
            "\t layer2.0.bn2.bias\n",
            "\t layer2.0.conv3.weight\n",
            "\t layer2.0.bn3.weight\n",
            "\t layer2.0.bn3.bias\n",
            "\t layer2.0.downsample.0.weight\n",
            "\t layer2.0.downsample.1.weight\n",
            "\t layer2.0.downsample.1.bias\n",
            "\t layer2.1.conv1.weight\n",
            "\t layer2.1.bn1.weight\n",
            "\t layer2.1.bn1.bias\n",
            "\t layer2.1.conv2.weight\n",
            "\t layer2.1.bn2.weight\n",
            "\t layer2.1.bn2.bias\n",
            "\t layer2.1.conv3.weight\n",
            "\t layer2.1.bn3.weight\n",
            "\t layer2.1.bn3.bias\n",
            "\t layer2.2.conv1.weight\n",
            "\t layer2.2.bn1.weight\n",
            "\t layer2.2.bn1.bias\n",
            "\t layer2.2.conv2.weight\n",
            "\t layer2.2.bn2.weight\n",
            "\t layer2.2.bn2.bias\n",
            "\t layer2.2.conv3.weight\n",
            "\t layer2.2.bn3.weight\n",
            "\t layer2.2.bn3.bias\n",
            "\t layer2.3.conv1.weight\n",
            "\t layer2.3.bn1.weight\n",
            "\t layer2.3.bn1.bias\n",
            "\t layer2.3.conv2.weight\n",
            "\t layer2.3.bn2.weight\n",
            "\t layer2.3.bn2.bias\n",
            "\t layer2.3.conv3.weight\n",
            "\t layer2.3.bn3.weight\n",
            "\t layer2.3.bn3.bias\n",
            "\t layer3.0.conv1.weight\n",
            "\t layer3.0.bn1.weight\n",
            "\t layer3.0.bn1.bias\n",
            "\t layer3.0.conv2.weight\n",
            "\t layer3.0.bn2.weight\n",
            "\t layer3.0.bn2.bias\n",
            "\t layer3.0.conv3.weight\n",
            "\t layer3.0.bn3.weight\n",
            "\t layer3.0.bn3.bias\n",
            "\t layer3.0.downsample.0.weight\n",
            "\t layer3.0.downsample.1.weight\n",
            "\t layer3.0.downsample.1.bias\n",
            "\t layer3.1.conv1.weight\n",
            "\t layer3.1.bn1.weight\n",
            "\t layer3.1.bn1.bias\n",
            "\t layer3.1.conv2.weight\n",
            "\t layer3.1.bn2.weight\n",
            "\t layer3.1.bn2.bias\n",
            "\t layer3.1.conv3.weight\n",
            "\t layer3.1.bn3.weight\n",
            "\t layer3.1.bn3.bias\n",
            "\t layer3.2.conv1.weight\n",
            "\t layer3.2.bn1.weight\n",
            "\t layer3.2.bn1.bias\n",
            "\t layer3.2.conv2.weight\n",
            "\t layer3.2.bn2.weight\n",
            "\t layer3.2.bn2.bias\n",
            "\t layer3.2.conv3.weight\n",
            "\t layer3.2.bn3.weight\n",
            "\t layer3.2.bn3.bias\n",
            "\t layer3.3.conv1.weight\n",
            "\t layer3.3.bn1.weight\n",
            "\t layer3.3.bn1.bias\n",
            "\t layer3.3.conv2.weight\n",
            "\t layer3.3.bn2.weight\n",
            "\t layer3.3.bn2.bias\n",
            "\t layer3.3.conv3.weight\n",
            "\t layer3.3.bn3.weight\n",
            "\t layer3.3.bn3.bias\n",
            "\t layer3.4.conv1.weight\n",
            "\t layer3.4.bn1.weight\n",
            "\t layer3.4.bn1.bias\n",
            "\t layer3.4.conv2.weight\n",
            "\t layer3.4.bn2.weight\n",
            "\t layer3.4.bn2.bias\n",
            "\t layer3.4.conv3.weight\n",
            "\t layer3.4.bn3.weight\n",
            "\t layer3.4.bn3.bias\n",
            "\t layer3.5.conv1.weight\n",
            "\t layer3.5.bn1.weight\n",
            "\t layer3.5.bn1.bias\n",
            "\t layer3.5.conv2.weight\n",
            "\t layer3.5.bn2.weight\n",
            "\t layer3.5.bn2.bias\n",
            "\t layer3.5.conv3.weight\n",
            "\t layer3.5.bn3.weight\n",
            "\t layer3.5.bn3.bias\n",
            "\t layer4.0.conv1.weight\n",
            "\t layer4.0.bn1.weight\n",
            "\t layer4.0.bn1.bias\n",
            "\t layer4.0.conv2.weight\n",
            "\t layer4.0.bn2.weight\n",
            "\t layer4.0.bn2.bias\n",
            "\t layer4.0.conv3.weight\n",
            "\t layer4.0.bn3.weight\n",
            "\t layer4.0.bn3.bias\n",
            "\t layer4.0.downsample.0.weight\n",
            "\t layer4.0.downsample.1.weight\n",
            "\t layer4.0.downsample.1.bias\n",
            "\t layer4.1.conv1.weight\n",
            "\t layer4.1.bn1.weight\n",
            "\t layer4.1.bn1.bias\n",
            "\t layer4.1.conv2.weight\n",
            "\t layer4.1.bn2.weight\n",
            "\t layer4.1.bn2.bias\n",
            "\t layer4.1.conv3.weight\n",
            "\t layer4.1.bn3.weight\n",
            "\t layer4.1.bn3.bias\n",
            "\t layer4.2.conv1.weight\n",
            "\t layer4.2.bn1.weight\n",
            "\t layer4.2.bn1.bias\n",
            "\t layer4.2.conv2.weight\n",
            "\t layer4.2.bn2.weight\n",
            "\t layer4.2.bn2.bias\n",
            "\t layer4.2.conv3.weight\n",
            "\t layer4.2.bn3.weight\n",
            "\t layer4.2.bn3.bias\n",
            "\t fc.weight\n",
            "\t fc.bias\n"
          ]
        }
      ],
      "source": [
        "# Send the model to GPU\n",
        "model_ft = model_ft.to(device)\n",
        "\n",
        "# Gather the parameters to be optimized/updated in this run. If we are\n",
        "#  finetuning we will be updating all parameters. However, if we are\n",
        "#  doing feature extract method, we will only update the parameters\n",
        "#  that we have just initialized, i.e. the parameters with requires_grad\n",
        "#  is True.\n",
        "params_to_update = model_ft.parameters()\n",
        "print(\"Params to learn:\")\n",
        "if feature_extract:\n",
        "    params_to_update = []\n",
        "    for name,param in model_ft.named_parameters():\n",
        "        if param.requires_grad == True:\n",
        "            params_to_update.append(param)\n",
        "            print(\"\\t\",name)\n",
        "else:\n",
        "    for name,param in model_ft.named_parameters():\n",
        "        if param.requires_grad == True:\n",
        "            print(\"\\t\",name)\n",
        "\n",
        "# Observe that all parameters are being optimized\n",
        "optimizer_ft = optim.SGD(params_to_update, lr=0.001, momentum=0.9)\n",
        "criterion = nn.CrossEntropyLoss()"
      ]
    },
    {
      "cell_type": "markdown",
      "metadata": {
        "id": "JGi3CpRzAKWH"
      },
      "source": [
        "# **Let's train !**"
      ]
    },
    {
      "cell_type": "code",
      "execution_count": null,
      "metadata": {
        "colab": {
          "base_uri": "https://localhost:8080/"
        },
        "id": "sOshZw2DbBmo",
        "outputId": "819ec644-5e41-4698-d1aa-bbeacfabfb6f"
      },
      "outputs": [
        {
          "name": "stdout",
          "output_type": "stream",
          "text": [
            "Epoch 0/14\n",
            "----------\n"
          ]
        },
        {
          "name": "stderr",
          "output_type": "stream",
          "text": [
            "/usr/local/lib/python3.10/dist-packages/torch/utils/data/dataloader.py:560: UserWarning: This DataLoader will create 4 worker processes in total. Our suggested max number of worker in current system is 2, which is smaller than what this DataLoader is going to create. Please be aware that excessive worker creation might get DataLoader running slow or even freeze, lower the worker number to avoid potential slowness/freeze if necessary.\n",
            "  warnings.warn(_create_warning_msg(\n"
          ]
        },
        {
          "name": "stdout",
          "output_type": "stream",
          "text": [
            "train Loss: 2.1873 Acc: 0.3490\n",
            "val Loss: 1.6719 Acc: 0.4600\n",
            "\n",
            "Epoch 1/14\n",
            "----------\n",
            "train Loss: 1.4081 Acc: 0.5297\n",
            "val Loss: 1.9361 Acc: 0.4340\n",
            "\n",
            "Epoch 2/14\n",
            "----------\n",
            "train Loss: 0.9763 Acc: 0.6780\n",
            "val Loss: 0.7050 Acc: 0.7680\n",
            "\n",
            "Epoch 3/14\n",
            "----------\n",
            "train Loss: 0.8465 Acc: 0.7281\n",
            "val Loss: 5.7402 Acc: 0.3220\n",
            "\n",
            "Epoch 4/14\n",
            "----------\n",
            "train Loss: 0.6614 Acc: 0.7891\n",
            "val Loss: 0.7807 Acc: 0.7540\n",
            "\n",
            "Epoch 5/14\n",
            "----------\n",
            "train Loss: 0.5410 Acc: 0.8347\n",
            "val Loss: 2.9390 Acc: 0.4280\n",
            "\n",
            "Epoch 6/14\n",
            "----------\n",
            "train Loss: 0.4610 Acc: 0.8529\n",
            "val Loss: 3.3978 Acc: 0.4000\n",
            "\n",
            "Epoch 7/14\n",
            "----------\n",
            "train Loss: 0.4061 Acc: 0.8679\n",
            "val Loss: 1.3579 Acc: 0.6460\n",
            "\n",
            "Epoch 8/14\n",
            "----------\n",
            "train Loss: 0.3428 Acc: 0.8908\n",
            "val Loss: 1.8078 Acc: 0.6200\n",
            "\n",
            "Epoch 9/14\n",
            "----------\n",
            "train Loss: 0.3141 Acc: 0.9055\n",
            "val Loss: 0.3514 Acc: 0.8880\n",
            "\n",
            "Epoch 10/14\n",
            "----------\n",
            "train Loss: 0.2573 Acc: 0.9190\n",
            "val Loss: 0.4559 Acc: 0.8880\n",
            "\n",
            "Epoch 11/14\n",
            "----------\n",
            "train Loss: 0.2476 Acc: 0.9180\n",
            "val Loss: 0.4919 Acc: 0.8860\n",
            "\n",
            "Epoch 12/14\n",
            "----------\n",
            "train Loss: 0.1858 Acc: 0.9382\n",
            "val Loss: 1.2243 Acc: 0.7360\n",
            "\n",
            "Epoch 13/14\n",
            "----------\n",
            "train Loss: 0.1949 Acc: 0.9367\n",
            "val Loss: 0.4292 Acc: 0.8840\n",
            "\n",
            "Epoch 14/14\n",
            "----------\n",
            "train Loss: 0.1593 Acc: 0.9462\n",
            "val Loss: 0.5563 Acc: 0.8880\n",
            "\n",
            "Training complete in 12m 13s\n",
            "Best val Acc: 0.888000\n"
          ]
        }
      ],
      "source": [
        "model, history = train_model(model_ft, data_loader, criterion, optimizer_ft, num_epochs=15)"
      ]
    },
    {
      "cell_type": "code",
      "execution_count": null,
      "metadata": {
        "colab": {
          "base_uri": "https://localhost:8080/",
          "height": 486
        },
        "id": "6NIf3gG7irn_",
        "outputId": "98165f72-038a-4ca6-f8f3-16b36f6a2f53"
      },
      "outputs": [
        {
          "data": {
            "image/png": "[encoded data removed]",
            "text/plain": [
              "<Figure size 640x480 with 2 Axes>"
            ]
          },
          "metadata": {},
          "output_type": "display_data"
        }
      ],
      "source": [
        "# Create a figure and two subplots\n",
        "fig, (ax1, ax2) = plt.subplots(2)\n",
        "\n",
        "train_acc = torch.Tensor(history[\"train_acc\"]).cpu().data.numpy()\n",
        "train_loss = torch.Tensor(history[\"train_loss\"]).cpu().data.numpy()\n",
        "\n",
        "val_acc = torch.Tensor(history[\"val_acc\"]).cpu().data.numpy()\n",
        "val_loss = torch.Tensor(history[\"val_loss\"]).cpu().data.numpy()\n",
        "\n",
        "# Plot lines on the first subplot\n",
        "ax1.plot(train_acc, label='train_accuracy')\n",
        "ax1.plot(val_acc, label='eval_accuracy')\n",
        "ax1.set_xlabel('X')\n",
        "ax1.set_ylabel('Y')\n",
        "ax1.set_title('History of accuracy')\n",
        "ax1.legend()\n",
        "\n",
        "# Plot lines on the second subplot\n",
        "ax2.plot(train_loss, label='train_loss')\n",
        "ax2.plot(val_loss, label='eval_loss')\n",
        "ax2.set_xlabel('X')\n",
        "ax2.set_ylabel('Y')\n",
        "ax2.set_title('History of loss')\n",
        "ax2.legend()\n",
        "\n",
        "# Adjust the layout of the subplots\n",
        "plt.tight_layout()\n",
        "\n",
        "# Display the figure\n",
        "plt.show()"
      ]
    },
    {
      "cell_type": "markdown",
      "metadata": {
        "id": "gx-4GAI_AO8r"
      },
      "source": [
        "# **Evaluation**"
      ]
    },
    {
      "cell_type": "code",
      "execution_count": null,
      "metadata": {
        "id": "aKXpGb5LhGMQ"
      },
      "outputs": [],
      "source": [
        "def eval_model(model, dataloaders, criterion, optimizer):\n",
        "    since = time.time()\n",
        "    all_pred = []\n",
        "    all_label = []\n",
        "\n",
        "    val_acc_history = []\n",
        "\n",
        "    best_model_wts = copy.deepcopy(model.state_dict())\n",
        "    best_acc = 0.0\n",
        "\n",
        "    model.eval()   # Set model to evaluate mode\n",
        "\n",
        "    running_loss = 0.0\n",
        "    running_corrects = 0\n",
        "\n",
        "    # Iterate over data.\n",
        "    for inputs, labels in dataloaders:\n",
        "        inputs = inputs.to(device)\n",
        "        labels = labels.to(device)\n",
        "\n",
        "        # zero the parameter gradients\n",
        "        optimizer.zero_grad()\n",
        "\n",
        "        outputs = model(inputs)\n",
        "        loss = criterion(outputs, labels)\n",
        "\n",
        "        _, preds = torch.max(outputs, 1)\n",
        "        all_label.extend(labels.squeeze())\n",
        "        all_pred.extend(preds)\n",
        "\n",
        "        # statistics\n",
        "        running_loss += loss.item() * inputs.size(0)\n",
        "        running_corrects += torch.sum(preds == labels.data)\n",
        "\n",
        "    all_label = torch.stack(all_label, dim=0)\n",
        "    all_pred = torch.stack(all_pred, dim=0)\n",
        "\n",
        "    epoch_loss = running_loss / len(dataloaders.dataset)\n",
        "    epoch_acc = running_corrects.double() / len(dataloaders.dataset)\n",
        "\n",
        "    print('test Loss: {:.4f} Acc: {:.4f}'.format( epoch_loss, epoch_acc))\n",
        "\n",
        "    val_acc_history.append(epoch_acc)\n",
        "\n",
        "    print()\n",
        "\n",
        "    time_elapsed = time.time() - since\n",
        "    print('Test complete in {:.0f}m {:.0f}s'.format(time_elapsed // 60, time_elapsed % 60))\n",
        "\n",
        "    print()\n",
        "    # Classification report\n",
        "    print('\\n\\n\\t\\tCLASSIFICATIION METRICS\\n')\n",
        "    print(metrics.classification_report(all_label.squeeze().cpu().data.squeeze().numpy(), all_pred.cpu().data.squeeze().numpy(),\n",
        "                                        target_names = [\"handwritten\", \"id\", \"invoice\", \"receipt\", \"resume\", \"table\"]))\n",
        "    return metrics.classification_report(all_label.squeeze().cpu().data.squeeze().numpy(), all_pred.cpu().data.squeeze().numpy(),\n",
        "                                        target_names = [\"handwritten\", \"id\", \"invoice\", \"receipt\", \"resume\", \"table\"], output_dict=True)"
      ]
    },
    {
      "cell_type": "code",
      "execution_count": null,
      "metadata": {
        "colab": {
          "base_uri": "https://localhost:8080/"
        },
        "id": "4KmlfQ8NjU14",
        "outputId": "fc7ece36-4a62-420e-825a-fc916b7c6786"
      },
      "outputs": [
        {
          "name": "stdout",
          "output_type": "stream",
          "text": [
            "test Loss: 0.3432 Acc: 0.8998\n",
            "\n",
            "Test complete in 0m 9s\n",
            "\n",
            "\n",
            "\n",
            "\t\tCLASSIFICATIION METRICS\n",
            "\n",
            "              precision    recall  f1-score   support\n",
            "\n",
            " handwritten       0.99      0.82      0.90       186\n",
            "          id       0.92      0.89      0.90       197\n",
            "     invoice       0.98      0.87      0.92       201\n",
            "     receipt       0.88      0.94      0.91       194\n",
            "      resume       0.96      0.95      0.96       179\n",
            "       table       0.73      0.94      0.82       171\n",
            "\n",
            "    accuracy                           0.90      1128\n",
            "   macro avg       0.91      0.90      0.90      1128\n",
            "weighted avg       0.91      0.90      0.90      1128\n",
            "\n"
          ]
        }
      ],
      "source": [
        "accuracy = eval_model(model, test_loader, criterion, optimizer_ft)"
      ]
    },
    {
      "cell_type": "markdown",
      "metadata": {
        "id": "UI2f2cMEAR0O"
      },
      "source": [
        "# **Save the modele**"
      ]
    },
    {
      "cell_type": "code",
      "execution_count": null,
      "metadata": {
        "id": "x9pCjDD4qINd"
      },
      "outputs": [],
      "source": [
        "torch.save(model, \"/gdrive/MyDrive/saved_models/resnet_pytorch/resnet_all_model_state2.pth\")"
      ]
    },
    {
      "cell_type": "code",
      "execution_count": null,
      "metadata": {
        "id": "bfCCQj8CqaZx"
      },
      "outputs": [],
      "source": [
        "modelB = torch.load(\"/gdrive/MyDrive/saved_models/resnet_pytorch/resnet_all_model_state.pth\", map_location=device)"
      ]
    },
    {
      "cell_type": "code",
      "execution_count": null,
      "metadata": {
        "id": "kRqSNQT3qjhE"
      },
      "outputs": [],
      "source": [
        "torch.save(model.state_dict(), \"/gdrive/MyDrive/saved_models/resnet_pytorch/resnet_all_model_state_dict.pth\")"
      ]
    },
    {
      "cell_type": "code",
      "execution_count": null,
      "metadata": {
        "id": "aqt5ceSNqnws"
      },
      "outputs": [],
      "source": [
        "modelC = torch.load(\"/gdrive/MyDrive/saved_models/resnet_pytorch/resnet_all_model_state_dict.pth\", map_location=device)"
      ]
    },
    {
      "cell_type": "code",
      "execution_count": null,
      "metadata": {
        "colab": {
          "base_uri": "https://localhost:8080/"
        },
        "id": "uEVlT2of4bV1",
        "outputId": "dfe31511-4cb9-459c-e4d9-125683aa9c30"
      },
      "outputs": [
        {
          "name": "stderr",
          "output_type": "stream",
          "text": [
            "/usr/local/lib/python3.10/dist-packages/torch/utils/data/dataloader.py:560: UserWarning: This DataLoader will create 4 worker processes in total. Our suggested max number of worker in current system is 2, which is smaller than what this DataLoader is going to create. Please be aware that excessive worker creation might get DataLoader running slow or even freeze, lower the worker number to avoid potential slowness/freeze if necessary.\n",
            "  warnings.warn(_create_warning_msg(\n"
          ]
        },
        {
          "name": "stdout",
          "output_type": "stream",
          "text": [
            "test Loss: 0.8066 Acc: 0.8955\n",
            "\n",
            "Test complete in 0m 51s\n",
            "\n",
            "\n",
            "\n",
            "\t\tCLASSIFICATIION METRICS\n",
            "\n",
            "              precision    recall  f1-score   support\n",
            "\n",
            " handwritten       0.96      0.94      0.95       160\n",
            "          id       0.94      0.74      0.83       170\n",
            "     invoice       0.90      0.95      0.93       160\n",
            "     receipt       0.91      0.98      0.94       166\n",
            "      resume       0.76      0.84      0.80       177\n",
            "       table       0.94      0.95      0.94       153\n",
            "\n",
            "    accuracy                           0.90       986\n",
            "   macro avg       0.90      0.90      0.90       986\n",
            "weighted avg       0.90      0.90      0.89       986\n",
            "\n"
          ]
        }
      ],
      "source": [
        "def eval_model(model, dataloaders, criterion, optimizer):\n",
        "    since = time.time()\n",
        "    all_pred = []\n",
        "    all_label = []\n",
        "\n",
        "    val_acc_history = []\n",
        "\n",
        "    best_model_wts = copy.deepcopy(model.state_dict())\n",
        "    best_acc = 0.0\n",
        "\n",
        "    model.eval()   # Set model to evaluate mode\n",
        "\n",
        "    running_loss = 0.0\n",
        "    running_corrects = 0\n",
        "\n",
        "    # Iterate over data.\n",
        "    for inputs, labels in dataloaders:\n",
        "        inputs = inputs.to(device)\n",
        "        labels = labels.to(device)\n",
        "\n",
        "        # zero the parameter gradients\n",
        "        optimizer.zero_grad()\n",
        "\n",
        "        outputs = model(inputs)\n",
        "        loss = criterion(outputs, labels)\n",
        "\n",
        "        _, preds = torch.max(outputs, 1)\n",
        "        all_label.extend(labels.squeeze())\n",
        "        all_pred.extend(preds)\n",
        "\n",
        "        # statistics\n",
        "        running_loss += loss.item() * inputs.size(0)\n",
        "        running_corrects += torch.sum(preds == labels.data)\n",
        "\n",
        "    all_label = torch.stack(all_label, dim=0)\n",
        "    all_pred = torch.stack(all_pred, dim=0)\n",
        "\n",
        "    epoch_loss = running_loss / len(dataloaders.dataset)\n",
        "    epoch_acc = running_corrects.double() / len(dataloaders.dataset)\n",
        "\n",
        "    print('test Loss: {:.4f} Acc: {:.4f}'.format( epoch_loss, epoch_acc))\n",
        "\n",
        "    val_acc_history.append(epoch_acc)\n",
        "\n",
        "    print()\n",
        "\n",
        "    time_elapsed = time.time() - since\n",
        "    print('Test complete in {:.0f}m {:.0f}s'.format(time_elapsed // 60, time_elapsed % 60))\n",
        "\n",
        "    print()\n",
        "    # Classification report\n",
        "    print('\\n\\n\\t\\tCLASSIFICATIION METRICS\\n')\n",
        "    print(metrics.classification_report(all_label.squeeze().cpu().data.squeeze().numpy(), all_pred.cpu().data.squeeze().numpy(),\n",
        "                                        target_names = [\"handwritten\", \"id\", \"invoice\", \"receipt\", \"resume\", \"table\"]))\n",
        "    return metrics.classification_report(all_label.squeeze().cpu().data.squeeze().numpy(), all_pred.cpu().data.squeeze().numpy(),\n",
        "                                        target_names = [\"handwritten\", \"id\", \"invoice\", \"receipt\", \"resume\", \"table\"], output_dict=True)\n",
        "\n",
        "accuracy = eval_model(modelB, test_loader, criterion, optimizer_ft)"
      ]
    },
    {
      "cell_type": "code",
      "execution_count": null,
      "metadata": {
        "colab": {
          "base_uri": "https://localhost:8080/"
        },
        "id": "5hS88bQMp0NV",
        "outputId": "dd00d763-d10c-4377-c943-6a9618f3ce76"
      },
      "outputs": [
        {
          "name": "stderr",
          "output_type": "stream",
          "text": [
            "/usr/local/lib/python3.10/dist-packages/torch/utils/data/dataloader.py:560: UserWarning: This DataLoader will create 4 worker processes in total. Our suggested max number of worker in current system is 2, which is smaller than what this DataLoader is going to create. Please be aware that excessive worker creation might get DataLoader running slow or even freeze, lower the worker number to avoid potential slowness/freeze if necessary.\n",
            "  warnings.warn(_create_warning_msg(\n"
          ]
        }
      ],
      "source": [
        "from sklearn.metrics import roc_auc_score\n",
        "\n",
        "def eval_model_pred(model, dataloaders, criterion, optimizer):\n",
        "    all_pred = []\n",
        "    all_label = []\n",
        "\n",
        "    model.eval()   # Set model to evaluate mode\n",
        "\n",
        "    # Iterate over data.\n",
        "    for inputs, labels in dataloaders:\n",
        "        inputs = inputs.to(device)\n",
        "        labels = labels.to(device)\n",
        "\n",
        "        # zero the parameter gradients\n",
        "        optimizer.zero_grad()\n",
        "        outputs = model(inputs)\n",
        "        _, preds = torch.max(outputs, 1)\n",
        "\n",
        "        all_pred.extend(preds)\n",
        "        all_label.extend(labels.cpu().numpy())\n",
        "\n",
        "    return all_label, all_pred\n",
        "\n",
        "criterion = nn.CrossEntropyLoss()\n",
        "original_labels, all_pred = eval_model_pred(modelB, test_loader, criterion, optimizer_ft)"
      ]
    },
    {
      "cell_type": "code",
      "execution_count": null,
      "metadata": {
        "colab": {
          "base_uri": "https://localhost:8080/",
          "height": 472
        },
        "id": "v__hzVJmLrJB",
        "outputId": "adacebd1-3c28-449b-c9b5-e3bd65a62a58"
      },
      "outputs": [
        {
          "data": {
            "image/png": "[encoded data removed]",
            "text/plain": [
              "<Figure size 640x480 with 2 Axes>"
            ]
          },
          "metadata": {},
          "output_type": "display_data"
        }
      ],
      "source": [
        "cm = confusion_matrix(torch.Tensor(original_labels).cpu(), torch.Tensor(all_pred).cpu())\n",
        "\n",
        "label = [\"handwritten\", \"id\", \"invoice\", \"receipt\", \"resume\", \"table\"]\n",
        "plt.imshow(cm, cmap=plt.cm.Blues)\n",
        "plt.title(\"RESNET Confusion Matrix\")\n",
        "plt.colorbar()\n",
        "plt.xlabel(\"Predicted Labels\")\n",
        "plt.ylabel(\"Original Labels\")\n",
        "plt.xticks(np.arange(len(np.unique(label))), np.unique(label))\n",
        "plt.yticks(np.arange(len(np.unique(label))), np.unique(label))\n",
        "plt.show()"
      ]
    },
    {
      "cell_type": "markdown",
      "metadata": {
        "id": "fRWqMBdfAXtj"
      },
      "source": [
        "# **Inference**"
      ]
    },
    {
      "cell_type": "code",
      "execution_count": null,
      "metadata": {
        "colab": {
          "base_uri": "https://localhost:8080/",
          "height": 54
        },
        "id": "3aqALGVmrzKu",
        "outputId": "f8b59c9e-7303-482b-8360-2687adc03179"
      },
      "outputs": [
        {
          "name": "stdout",
          "output_type": "stream",
          "text": [
            "5.116795063018799\n"
          ]
        },
        {
          "data": {
            "application/vnd.google.colaboratory.intrinsic+json": {
              "type": "string"
            },
            "text/plain": [
              "'receipt'"
            ]
          },
          "execution_count": 44,
          "metadata": {},
          "output_type": "execute_result"
        }
      ],
      "source": [
        "time_start = time.time()\n",
        "modelB.eval()\n",
        "transform = transforms.Compose([\n",
        "    transforms.Resize((150,150)),\n",
        "    transforms.ToTensor(),\n",
        "\n",
        "])\n",
        "\n",
        "image_path = \"/gdrive/MyDrive/test_images/receipt7.jpg\"\n",
        "image = Image.open(image_path)\n",
        "channels = transforms.ToTensor()(image)\n",
        "if channels.shape[0]>3 or channels.shape[0]<3:\n",
        "    image = image.convert(mode='RGB')\n",
        "input_tensor = transform(image)\n",
        "input_batch = input_tensor.unsqueeze(0)\n",
        "\n",
        "\n",
        "with torch.no_grad():\n",
        "    output = modelB(input_batch.to(device))\n",
        "    predictions = output[0]\n",
        "\n",
        "    value, predicted_idx = torch.max(output, 1)\n",
        "    print(value[0].item())\n",
        "\n",
        "model_labels = [\"handwritten\", \"id\", \"invoice\", \"receipt\", \"resume\", \"table\"]\n",
        "\n",
        "class_table = {}\n",
        "for i in range(len(model_labels)):\n",
        "    class_table[model_labels[i]] = str(int(predictions[i] * 10)) + \"%\"\n",
        "time_end = time.time()\n",
        "predicted_label = model_labels[predicted_idx.item()]\n",
        "#print(class_table)\n",
        "#print(\"execution time : \", time_end - time_start)\n",
        "predicted_label"
      ]
    }
  ],
  "metadata": {
    "accelerator": "GPU",
    "colab": {
      "gpuType": "T4",
      "provenance": []
    },
    "kernelspec": {
      "display_name": "Python 3",
      "name": "python3"
    },
    "language_info": {
      "name": "python"
    }
  },
  "nbformat": 4,
  "nbformat_minor": 0
}
